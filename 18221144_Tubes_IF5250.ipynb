{
  "nbformat": 4,
  "nbformat_minor": 0,
  "metadata": {
    "colab": {
      "provenance": [],
      "gpuType": "T4"
    },
    "kernelspec": {
      "name": "python3",
      "display_name": "Python 3"
    },
    "language_info": {
      "name": "python"
    },
    "widgets": {
      "application/vnd.jupyter.widget-state+json": {
        "5ea04fb0fbc047e29021fb1a72900139": {
          "model_module": "@jupyter-widgets/controls",
          "model_name": "HBoxModel",
          "model_module_version": "1.5.0",
          "state": {
            "_dom_classes": [],
            "_model_module": "@jupyter-widgets/controls",
            "_model_module_version": "1.5.0",
            "_model_name": "HBoxModel",
            "_view_count": null,
            "_view_module": "@jupyter-widgets/controls",
            "_view_module_version": "1.5.0",
            "_view_name": "HBoxView",
            "box_style": "",
            "children": [
              "IPY_MODEL_66603719518a4cf49283bf4dbc902704",
              "IPY_MODEL_f3fac6cab57848a092bcc80a6842a018",
              "IPY_MODEL_41d9ede76d62450d80f1e795b982f5c0"
            ],
            "layout": "IPY_MODEL_ea6d9c16a8c241238fb5a3d536b1efbf"
          }
        },
        "66603719518a4cf49283bf4dbc902704": {
          "model_module": "@jupyter-widgets/controls",
          "model_name": "HTMLModel",
          "model_module_version": "1.5.0",
          "state": {
            "_dom_classes": [],
            "_model_module": "@jupyter-widgets/controls",
            "_model_module_version": "1.5.0",
            "_model_name": "HTMLModel",
            "_view_count": null,
            "_view_module": "@jupyter-widgets/controls",
            "_view_module_version": "1.5.0",
            "_view_name": "HTMLView",
            "description": "",
            "description_tooltip": null,
            "layout": "IPY_MODEL_a70d9ed14fb44358badb59b25c7c29cb",
            "placeholder": "​",
            "style": "IPY_MODEL_584c091595544d9eba9d6796c355f7d1",
            "value": "tokenizer_config.json: 100%"
          }
        },
        "f3fac6cab57848a092bcc80a6842a018": {
          "model_module": "@jupyter-widgets/controls",
          "model_name": "FloatProgressModel",
          "model_module_version": "1.5.0",
          "state": {
            "_dom_classes": [],
            "_model_module": "@jupyter-widgets/controls",
            "_model_module_version": "1.5.0",
            "_model_name": "FloatProgressModel",
            "_view_count": null,
            "_view_module": "@jupyter-widgets/controls",
            "_view_module_version": "1.5.0",
            "_view_name": "ProgressView",
            "bar_style": "success",
            "description": "",
            "description_tooltip": null,
            "layout": "IPY_MODEL_518a7118261949a0acbd8fe054dee4d9",
            "max": 48,
            "min": 0,
            "orientation": "horizontal",
            "style": "IPY_MODEL_859f54e17c404633becd75c49f8e9e7e",
            "value": 48
          }
        },
        "41d9ede76d62450d80f1e795b982f5c0": {
          "model_module": "@jupyter-widgets/controls",
          "model_name": "HTMLModel",
          "model_module_version": "1.5.0",
          "state": {
            "_dom_classes": [],
            "_model_module": "@jupyter-widgets/controls",
            "_model_module_version": "1.5.0",
            "_model_name": "HTMLModel",
            "_view_count": null,
            "_view_module": "@jupyter-widgets/controls",
            "_view_module_version": "1.5.0",
            "_view_name": "HTMLView",
            "description": "",
            "description_tooltip": null,
            "layout": "IPY_MODEL_239d0fa6b57b4890b0d05df93640c20d",
            "placeholder": "​",
            "style": "IPY_MODEL_43b16ebec0cf4655b19fc86576b49091",
            "value": " 48.0/48.0 [00:00&lt;00:00, 3.04kB/s]"
          }
        },
        "ea6d9c16a8c241238fb5a3d536b1efbf": {
          "model_module": "@jupyter-widgets/base",
          "model_name": "LayoutModel",
          "model_module_version": "1.2.0",
          "state": {
            "_model_module": "@jupyter-widgets/base",
            "_model_module_version": "1.2.0",
            "_model_name": "LayoutModel",
            "_view_count": null,
            "_view_module": "@jupyter-widgets/base",
            "_view_module_version": "1.2.0",
            "_view_name": "LayoutView",
            "align_content": null,
            "align_items": null,
            "align_self": null,
            "border": null,
            "bottom": null,
            "display": null,
            "flex": null,
            "flex_flow": null,
            "grid_area": null,
            "grid_auto_columns": null,
            "grid_auto_flow": null,
            "grid_auto_rows": null,
            "grid_column": null,
            "grid_gap": null,
            "grid_row": null,
            "grid_template_areas": null,
            "grid_template_columns": null,
            "grid_template_rows": null,
            "height": null,
            "justify_content": null,
            "justify_items": null,
            "left": null,
            "margin": null,
            "max_height": null,
            "max_width": null,
            "min_height": null,
            "min_width": null,
            "object_fit": null,
            "object_position": null,
            "order": null,
            "overflow": null,
            "overflow_x": null,
            "overflow_y": null,
            "padding": null,
            "right": null,
            "top": null,
            "visibility": null,
            "width": null
          }
        },
        "a70d9ed14fb44358badb59b25c7c29cb": {
          "model_module": "@jupyter-widgets/base",
          "model_name": "LayoutModel",
          "model_module_version": "1.2.0",
          "state": {
            "_model_module": "@jupyter-widgets/base",
            "_model_module_version": "1.2.0",
            "_model_name": "LayoutModel",
            "_view_count": null,
            "_view_module": "@jupyter-widgets/base",
            "_view_module_version": "1.2.0",
            "_view_name": "LayoutView",
            "align_content": null,
            "align_items": null,
            "align_self": null,
            "border": null,
            "bottom": null,
            "display": null,
            "flex": null,
            "flex_flow": null,
            "grid_area": null,
            "grid_auto_columns": null,
            "grid_auto_flow": null,
            "grid_auto_rows": null,
            "grid_column": null,
            "grid_gap": null,
            "grid_row": null,
            "grid_template_areas": null,
            "grid_template_columns": null,
            "grid_template_rows": null,
            "height": null,
            "justify_content": null,
            "justify_items": null,
            "left": null,
            "margin": null,
            "max_height": null,
            "max_width": null,
            "min_height": null,
            "min_width": null,
            "object_fit": null,
            "object_position": null,
            "order": null,
            "overflow": null,
            "overflow_x": null,
            "overflow_y": null,
            "padding": null,
            "right": null,
            "top": null,
            "visibility": null,
            "width": null
          }
        },
        "584c091595544d9eba9d6796c355f7d1": {
          "model_module": "@jupyter-widgets/controls",
          "model_name": "DescriptionStyleModel",
          "model_module_version": "1.5.0",
          "state": {
            "_model_module": "@jupyter-widgets/controls",
            "_model_module_version": "1.5.0",
            "_model_name": "DescriptionStyleModel",
            "_view_count": null,
            "_view_module": "@jupyter-widgets/base",
            "_view_module_version": "1.2.0",
            "_view_name": "StyleView",
            "description_width": ""
          }
        },
        "518a7118261949a0acbd8fe054dee4d9": {
          "model_module": "@jupyter-widgets/base",
          "model_name": "LayoutModel",
          "model_module_version": "1.2.0",
          "state": {
            "_model_module": "@jupyter-widgets/base",
            "_model_module_version": "1.2.0",
            "_model_name": "LayoutModel",
            "_view_count": null,
            "_view_module": "@jupyter-widgets/base",
            "_view_module_version": "1.2.0",
            "_view_name": "LayoutView",
            "align_content": null,
            "align_items": null,
            "align_self": null,
            "border": null,
            "bottom": null,
            "display": null,
            "flex": null,
            "flex_flow": null,
            "grid_area": null,
            "grid_auto_columns": null,
            "grid_auto_flow": null,
            "grid_auto_rows": null,
            "grid_column": null,
            "grid_gap": null,
            "grid_row": null,
            "grid_template_areas": null,
            "grid_template_columns": null,
            "grid_template_rows": null,
            "height": null,
            "justify_content": null,
            "justify_items": null,
            "left": null,
            "margin": null,
            "max_height": null,
            "max_width": null,
            "min_height": null,
            "min_width": null,
            "object_fit": null,
            "object_position": null,
            "order": null,
            "overflow": null,
            "overflow_x": null,
            "overflow_y": null,
            "padding": null,
            "right": null,
            "top": null,
            "visibility": null,
            "width": null
          }
        },
        "859f54e17c404633becd75c49f8e9e7e": {
          "model_module": "@jupyter-widgets/controls",
          "model_name": "ProgressStyleModel",
          "model_module_version": "1.5.0",
          "state": {
            "_model_module": "@jupyter-widgets/controls",
            "_model_module_version": "1.5.0",
            "_model_name": "ProgressStyleModel",
            "_view_count": null,
            "_view_module": "@jupyter-widgets/base",
            "_view_module_version": "1.2.0",
            "_view_name": "StyleView",
            "bar_color": null,
            "description_width": ""
          }
        },
        "239d0fa6b57b4890b0d05df93640c20d": {
          "model_module": "@jupyter-widgets/base",
          "model_name": "LayoutModel",
          "model_module_version": "1.2.0",
          "state": {
            "_model_module": "@jupyter-widgets/base",
            "_model_module_version": "1.2.0",
            "_model_name": "LayoutModel",
            "_view_count": null,
            "_view_module": "@jupyter-widgets/base",
            "_view_module_version": "1.2.0",
            "_view_name": "LayoutView",
            "align_content": null,
            "align_items": null,
            "align_self": null,
            "border": null,
            "bottom": null,
            "display": null,
            "flex": null,
            "flex_flow": null,
            "grid_area": null,
            "grid_auto_columns": null,
            "grid_auto_flow": null,
            "grid_auto_rows": null,
            "grid_column": null,
            "grid_gap": null,
            "grid_row": null,
            "grid_template_areas": null,
            "grid_template_columns": null,
            "grid_template_rows": null,
            "height": null,
            "justify_content": null,
            "justify_items": null,
            "left": null,
            "margin": null,
            "max_height": null,
            "max_width": null,
            "min_height": null,
            "min_width": null,
            "object_fit": null,
            "object_position": null,
            "order": null,
            "overflow": null,
            "overflow_x": null,
            "overflow_y": null,
            "padding": null,
            "right": null,
            "top": null,
            "visibility": null,
            "width": null
          }
        },
        "43b16ebec0cf4655b19fc86576b49091": {
          "model_module": "@jupyter-widgets/controls",
          "model_name": "DescriptionStyleModel",
          "model_module_version": "1.5.0",
          "state": {
            "_model_module": "@jupyter-widgets/controls",
            "_model_module_version": "1.5.0",
            "_model_name": "DescriptionStyleModel",
            "_view_count": null,
            "_view_module": "@jupyter-widgets/base",
            "_view_module_version": "1.2.0",
            "_view_name": "StyleView",
            "description_width": ""
          }
        },
        "fa801ed89d42441ab3369c2de8a83e79": {
          "model_module": "@jupyter-widgets/controls",
          "model_name": "HBoxModel",
          "model_module_version": "1.5.0",
          "state": {
            "_dom_classes": [],
            "_model_module": "@jupyter-widgets/controls",
            "_model_module_version": "1.5.0",
            "_model_name": "HBoxModel",
            "_view_count": null,
            "_view_module": "@jupyter-widgets/controls",
            "_view_module_version": "1.5.0",
            "_view_name": "HBoxView",
            "box_style": "",
            "children": [
              "IPY_MODEL_9d98bab9f85746b48140b4416430a8c5",
              "IPY_MODEL_221e9cb58b1d4ee9940732a4cb84b1cc",
              "IPY_MODEL_fd80b8cf62334545a20c39feb9d0e106"
            ],
            "layout": "IPY_MODEL_4e53fec3e42f4f7baed6adf5518726ed"
          }
        },
        "9d98bab9f85746b48140b4416430a8c5": {
          "model_module": "@jupyter-widgets/controls",
          "model_name": "HTMLModel",
          "model_module_version": "1.5.0",
          "state": {
            "_dom_classes": [],
            "_model_module": "@jupyter-widgets/controls",
            "_model_module_version": "1.5.0",
            "_model_name": "HTMLModel",
            "_view_count": null,
            "_view_module": "@jupyter-widgets/controls",
            "_view_module_version": "1.5.0",
            "_view_name": "HTMLView",
            "description": "",
            "description_tooltip": null,
            "layout": "IPY_MODEL_71534a22cf6e4fb89c861ac4db161713",
            "placeholder": "​",
            "style": "IPY_MODEL_1ed419573c274e2fab8ef484a2e460d7",
            "value": "vocab.txt: 100%"
          }
        },
        "221e9cb58b1d4ee9940732a4cb84b1cc": {
          "model_module": "@jupyter-widgets/controls",
          "model_name": "FloatProgressModel",
          "model_module_version": "1.5.0",
          "state": {
            "_dom_classes": [],
            "_model_module": "@jupyter-widgets/controls",
            "_model_module_version": "1.5.0",
            "_model_name": "FloatProgressModel",
            "_view_count": null,
            "_view_module": "@jupyter-widgets/controls",
            "_view_module_version": "1.5.0",
            "_view_name": "ProgressView",
            "bar_style": "success",
            "description": "",
            "description_tooltip": null,
            "layout": "IPY_MODEL_cc392c8667d841a88bb9f0d614e75b10",
            "max": 231508,
            "min": 0,
            "orientation": "horizontal",
            "style": "IPY_MODEL_ed1cbd15109f49ab8e54e0baecb568db",
            "value": 231508
          }
        },
        "fd80b8cf62334545a20c39feb9d0e106": {
          "model_module": "@jupyter-widgets/controls",
          "model_name": "HTMLModel",
          "model_module_version": "1.5.0",
          "state": {
            "_dom_classes": [],
            "_model_module": "@jupyter-widgets/controls",
            "_model_module_version": "1.5.0",
            "_model_name": "HTMLModel",
            "_view_count": null,
            "_view_module": "@jupyter-widgets/controls",
            "_view_module_version": "1.5.0",
            "_view_name": "HTMLView",
            "description": "",
            "description_tooltip": null,
            "layout": "IPY_MODEL_22b3d1685b5240aebaa4c536aa336aaf",
            "placeholder": "​",
            "style": "IPY_MODEL_e9c5e47d4b6948d782c0b7a4a4ec4083",
            "value": " 232k/232k [00:00&lt;00:00, 1.92MB/s]"
          }
        },
        "4e53fec3e42f4f7baed6adf5518726ed": {
          "model_module": "@jupyter-widgets/base",
          "model_name": "LayoutModel",
          "model_module_version": "1.2.0",
          "state": {
            "_model_module": "@jupyter-widgets/base",
            "_model_module_version": "1.2.0",
            "_model_name": "LayoutModel",
            "_view_count": null,
            "_view_module": "@jupyter-widgets/base",
            "_view_module_version": "1.2.0",
            "_view_name": "LayoutView",
            "align_content": null,
            "align_items": null,
            "align_self": null,
            "border": null,
            "bottom": null,
            "display": null,
            "flex": null,
            "flex_flow": null,
            "grid_area": null,
            "grid_auto_columns": null,
            "grid_auto_flow": null,
            "grid_auto_rows": null,
            "grid_column": null,
            "grid_gap": null,
            "grid_row": null,
            "grid_template_areas": null,
            "grid_template_columns": null,
            "grid_template_rows": null,
            "height": null,
            "justify_content": null,
            "justify_items": null,
            "left": null,
            "margin": null,
            "max_height": null,
            "max_width": null,
            "min_height": null,
            "min_width": null,
            "object_fit": null,
            "object_position": null,
            "order": null,
            "overflow": null,
            "overflow_x": null,
            "overflow_y": null,
            "padding": null,
            "right": null,
            "top": null,
            "visibility": null,
            "width": null
          }
        },
        "71534a22cf6e4fb89c861ac4db161713": {
          "model_module": "@jupyter-widgets/base",
          "model_name": "LayoutModel",
          "model_module_version": "1.2.0",
          "state": {
            "_model_module": "@jupyter-widgets/base",
            "_model_module_version": "1.2.0",
            "_model_name": "LayoutModel",
            "_view_count": null,
            "_view_module": "@jupyter-widgets/base",
            "_view_module_version": "1.2.0",
            "_view_name": "LayoutView",
            "align_content": null,
            "align_items": null,
            "align_self": null,
            "border": null,
            "bottom": null,
            "display": null,
            "flex": null,
            "flex_flow": null,
            "grid_area": null,
            "grid_auto_columns": null,
            "grid_auto_flow": null,
            "grid_auto_rows": null,
            "grid_column": null,
            "grid_gap": null,
            "grid_row": null,
            "grid_template_areas": null,
            "grid_template_columns": null,
            "grid_template_rows": null,
            "height": null,
            "justify_content": null,
            "justify_items": null,
            "left": null,
            "margin": null,
            "max_height": null,
            "max_width": null,
            "min_height": null,
            "min_width": null,
            "object_fit": null,
            "object_position": null,
            "order": null,
            "overflow": null,
            "overflow_x": null,
            "overflow_y": null,
            "padding": null,
            "right": null,
            "top": null,
            "visibility": null,
            "width": null
          }
        },
        "1ed419573c274e2fab8ef484a2e460d7": {
          "model_module": "@jupyter-widgets/controls",
          "model_name": "DescriptionStyleModel",
          "model_module_version": "1.5.0",
          "state": {
            "_model_module": "@jupyter-widgets/controls",
            "_model_module_version": "1.5.0",
            "_model_name": "DescriptionStyleModel",
            "_view_count": null,
            "_view_module": "@jupyter-widgets/base",
            "_view_module_version": "1.2.0",
            "_view_name": "StyleView",
            "description_width": ""
          }
        },
        "cc392c8667d841a88bb9f0d614e75b10": {
          "model_module": "@jupyter-widgets/base",
          "model_name": "LayoutModel",
          "model_module_version": "1.2.0",
          "state": {
            "_model_module": "@jupyter-widgets/base",
            "_model_module_version": "1.2.0",
            "_model_name": "LayoutModel",
            "_view_count": null,
            "_view_module": "@jupyter-widgets/base",
            "_view_module_version": "1.2.0",
            "_view_name": "LayoutView",
            "align_content": null,
            "align_items": null,
            "align_self": null,
            "border": null,
            "bottom": null,
            "display": null,
            "flex": null,
            "flex_flow": null,
            "grid_area": null,
            "grid_auto_columns": null,
            "grid_auto_flow": null,
            "grid_auto_rows": null,
            "grid_column": null,
            "grid_gap": null,
            "grid_row": null,
            "grid_template_areas": null,
            "grid_template_columns": null,
            "grid_template_rows": null,
            "height": null,
            "justify_content": null,
            "justify_items": null,
            "left": null,
            "margin": null,
            "max_height": null,
            "max_width": null,
            "min_height": null,
            "min_width": null,
            "object_fit": null,
            "object_position": null,
            "order": null,
            "overflow": null,
            "overflow_x": null,
            "overflow_y": null,
            "padding": null,
            "right": null,
            "top": null,
            "visibility": null,
            "width": null
          }
        },
        "ed1cbd15109f49ab8e54e0baecb568db": {
          "model_module": "@jupyter-widgets/controls",
          "model_name": "ProgressStyleModel",
          "model_module_version": "1.5.0",
          "state": {
            "_model_module": "@jupyter-widgets/controls",
            "_model_module_version": "1.5.0",
            "_model_name": "ProgressStyleModel",
            "_view_count": null,
            "_view_module": "@jupyter-widgets/base",
            "_view_module_version": "1.2.0",
            "_view_name": "StyleView",
            "bar_color": null,
            "description_width": ""
          }
        },
        "22b3d1685b5240aebaa4c536aa336aaf": {
          "model_module": "@jupyter-widgets/base",
          "model_name": "LayoutModel",
          "model_module_version": "1.2.0",
          "state": {
            "_model_module": "@jupyter-widgets/base",
            "_model_module_version": "1.2.0",
            "_model_name": "LayoutModel",
            "_view_count": null,
            "_view_module": "@jupyter-widgets/base",
            "_view_module_version": "1.2.0",
            "_view_name": "LayoutView",
            "align_content": null,
            "align_items": null,
            "align_self": null,
            "border": null,
            "bottom": null,
            "display": null,
            "flex": null,
            "flex_flow": null,
            "grid_area": null,
            "grid_auto_columns": null,
            "grid_auto_flow": null,
            "grid_auto_rows": null,
            "grid_column": null,
            "grid_gap": null,
            "grid_row": null,
            "grid_template_areas": null,
            "grid_template_columns": null,
            "grid_template_rows": null,
            "height": null,
            "justify_content": null,
            "justify_items": null,
            "left": null,
            "margin": null,
            "max_height": null,
            "max_width": null,
            "min_height": null,
            "min_width": null,
            "object_fit": null,
            "object_position": null,
            "order": null,
            "overflow": null,
            "overflow_x": null,
            "overflow_y": null,
            "padding": null,
            "right": null,
            "top": null,
            "visibility": null,
            "width": null
          }
        },
        "e9c5e47d4b6948d782c0b7a4a4ec4083": {
          "model_module": "@jupyter-widgets/controls",
          "model_name": "DescriptionStyleModel",
          "model_module_version": "1.5.0",
          "state": {
            "_model_module": "@jupyter-widgets/controls",
            "_model_module_version": "1.5.0",
            "_model_name": "DescriptionStyleModel",
            "_view_count": null,
            "_view_module": "@jupyter-widgets/base",
            "_view_module_version": "1.2.0",
            "_view_name": "StyleView",
            "description_width": ""
          }
        },
        "d3449b7db9ff40f79f35de5249370287": {
          "model_module": "@jupyter-widgets/controls",
          "model_name": "HBoxModel",
          "model_module_version": "1.5.0",
          "state": {
            "_dom_classes": [],
            "_model_module": "@jupyter-widgets/controls",
            "_model_module_version": "1.5.0",
            "_model_name": "HBoxModel",
            "_view_count": null,
            "_view_module": "@jupyter-widgets/controls",
            "_view_module_version": "1.5.0",
            "_view_name": "HBoxView",
            "box_style": "",
            "children": [
              "IPY_MODEL_7ed602bf22f54dffbc8491ec497a4fe4",
              "IPY_MODEL_a99c1368bfb24ce5a34f97bd2e1b2866",
              "IPY_MODEL_1a6467e60d8c4d209139c980c58732d7"
            ],
            "layout": "IPY_MODEL_f926c7c6af9c47018a4ef4972486dcb5"
          }
        },
        "7ed602bf22f54dffbc8491ec497a4fe4": {
          "model_module": "@jupyter-widgets/controls",
          "model_name": "HTMLModel",
          "model_module_version": "1.5.0",
          "state": {
            "_dom_classes": [],
            "_model_module": "@jupyter-widgets/controls",
            "_model_module_version": "1.5.0",
            "_model_name": "HTMLModel",
            "_view_count": null,
            "_view_module": "@jupyter-widgets/controls",
            "_view_module_version": "1.5.0",
            "_view_name": "HTMLView",
            "description": "",
            "description_tooltip": null,
            "layout": "IPY_MODEL_ffb1ff5c86b145fea5c0987d7fd1dc76",
            "placeholder": "​",
            "style": "IPY_MODEL_eb1fbc60b80a4d168265ca033da1fd57",
            "value": "tokenizer.json: 100%"
          }
        },
        "a99c1368bfb24ce5a34f97bd2e1b2866": {
          "model_module": "@jupyter-widgets/controls",
          "model_name": "FloatProgressModel",
          "model_module_version": "1.5.0",
          "state": {
            "_dom_classes": [],
            "_model_module": "@jupyter-widgets/controls",
            "_model_module_version": "1.5.0",
            "_model_name": "FloatProgressModel",
            "_view_count": null,
            "_view_module": "@jupyter-widgets/controls",
            "_view_module_version": "1.5.0",
            "_view_name": "ProgressView",
            "bar_style": "success",
            "description": "",
            "description_tooltip": null,
            "layout": "IPY_MODEL_1324b1cfb9b14a6f9fb70bc9453ce29b",
            "max": 466062,
            "min": 0,
            "orientation": "horizontal",
            "style": "IPY_MODEL_85cfd3f73e2c47ca9202eb523f21a049",
            "value": 466062
          }
        },
        "1a6467e60d8c4d209139c980c58732d7": {
          "model_module": "@jupyter-widgets/controls",
          "model_name": "HTMLModel",
          "model_module_version": "1.5.0",
          "state": {
            "_dom_classes": [],
            "_model_module": "@jupyter-widgets/controls",
            "_model_module_version": "1.5.0",
            "_model_name": "HTMLModel",
            "_view_count": null,
            "_view_module": "@jupyter-widgets/controls",
            "_view_module_version": "1.5.0",
            "_view_name": "HTMLView",
            "description": "",
            "description_tooltip": null,
            "layout": "IPY_MODEL_f8d5b9f9a11f42268140209411188789",
            "placeholder": "​",
            "style": "IPY_MODEL_62f02c9b1b82499cb42b61f9124a1058",
            "value": " 466k/466k [00:00&lt;00:00, 21.5MB/s]"
          }
        },
        "f926c7c6af9c47018a4ef4972486dcb5": {
          "model_module": "@jupyter-widgets/base",
          "model_name": "LayoutModel",
          "model_module_version": "1.2.0",
          "state": {
            "_model_module": "@jupyter-widgets/base",
            "_model_module_version": "1.2.0",
            "_model_name": "LayoutModel",
            "_view_count": null,
            "_view_module": "@jupyter-widgets/base",
            "_view_module_version": "1.2.0",
            "_view_name": "LayoutView",
            "align_content": null,
            "align_items": null,
            "align_self": null,
            "border": null,
            "bottom": null,
            "display": null,
            "flex": null,
            "flex_flow": null,
            "grid_area": null,
            "grid_auto_columns": null,
            "grid_auto_flow": null,
            "grid_auto_rows": null,
            "grid_column": null,
            "grid_gap": null,
            "grid_row": null,
            "grid_template_areas": null,
            "grid_template_columns": null,
            "grid_template_rows": null,
            "height": null,
            "justify_content": null,
            "justify_items": null,
            "left": null,
            "margin": null,
            "max_height": null,
            "max_width": null,
            "min_height": null,
            "min_width": null,
            "object_fit": null,
            "object_position": null,
            "order": null,
            "overflow": null,
            "overflow_x": null,
            "overflow_y": null,
            "padding": null,
            "right": null,
            "top": null,
            "visibility": null,
            "width": null
          }
        },
        "ffb1ff5c86b145fea5c0987d7fd1dc76": {
          "model_module": "@jupyter-widgets/base",
          "model_name": "LayoutModel",
          "model_module_version": "1.2.0",
          "state": {
            "_model_module": "@jupyter-widgets/base",
            "_model_module_version": "1.2.0",
            "_model_name": "LayoutModel",
            "_view_count": null,
            "_view_module": "@jupyter-widgets/base",
            "_view_module_version": "1.2.0",
            "_view_name": "LayoutView",
            "align_content": null,
            "align_items": null,
            "align_self": null,
            "border": null,
            "bottom": null,
            "display": null,
            "flex": null,
            "flex_flow": null,
            "grid_area": null,
            "grid_auto_columns": null,
            "grid_auto_flow": null,
            "grid_auto_rows": null,
            "grid_column": null,
            "grid_gap": null,
            "grid_row": null,
            "grid_template_areas": null,
            "grid_template_columns": null,
            "grid_template_rows": null,
            "height": null,
            "justify_content": null,
            "justify_items": null,
            "left": null,
            "margin": null,
            "max_height": null,
            "max_width": null,
            "min_height": null,
            "min_width": null,
            "object_fit": null,
            "object_position": null,
            "order": null,
            "overflow": null,
            "overflow_x": null,
            "overflow_y": null,
            "padding": null,
            "right": null,
            "top": null,
            "visibility": null,
            "width": null
          }
        },
        "eb1fbc60b80a4d168265ca033da1fd57": {
          "model_module": "@jupyter-widgets/controls",
          "model_name": "DescriptionStyleModel",
          "model_module_version": "1.5.0",
          "state": {
            "_model_module": "@jupyter-widgets/controls",
            "_model_module_version": "1.5.0",
            "_model_name": "DescriptionStyleModel",
            "_view_count": null,
            "_view_module": "@jupyter-widgets/base",
            "_view_module_version": "1.2.0",
            "_view_name": "StyleView",
            "description_width": ""
          }
        },
        "1324b1cfb9b14a6f9fb70bc9453ce29b": {
          "model_module": "@jupyter-widgets/base",
          "model_name": "LayoutModel",
          "model_module_version": "1.2.0",
          "state": {
            "_model_module": "@jupyter-widgets/base",
            "_model_module_version": "1.2.0",
            "_model_name": "LayoutModel",
            "_view_count": null,
            "_view_module": "@jupyter-widgets/base",
            "_view_module_version": "1.2.0",
            "_view_name": "LayoutView",
            "align_content": null,
            "align_items": null,
            "align_self": null,
            "border": null,
            "bottom": null,
            "display": null,
            "flex": null,
            "flex_flow": null,
            "grid_area": null,
            "grid_auto_columns": null,
            "grid_auto_flow": null,
            "grid_auto_rows": null,
            "grid_column": null,
            "grid_gap": null,
            "grid_row": null,
            "grid_template_areas": null,
            "grid_template_columns": null,
            "grid_template_rows": null,
            "height": null,
            "justify_content": null,
            "justify_items": null,
            "left": null,
            "margin": null,
            "max_height": null,
            "max_width": null,
            "min_height": null,
            "min_width": null,
            "object_fit": null,
            "object_position": null,
            "order": null,
            "overflow": null,
            "overflow_x": null,
            "overflow_y": null,
            "padding": null,
            "right": null,
            "top": null,
            "visibility": null,
            "width": null
          }
        },
        "85cfd3f73e2c47ca9202eb523f21a049": {
          "model_module": "@jupyter-widgets/controls",
          "model_name": "ProgressStyleModel",
          "model_module_version": "1.5.0",
          "state": {
            "_model_module": "@jupyter-widgets/controls",
            "_model_module_version": "1.5.0",
            "_model_name": "ProgressStyleModel",
            "_view_count": null,
            "_view_module": "@jupyter-widgets/base",
            "_view_module_version": "1.2.0",
            "_view_name": "StyleView",
            "bar_color": null,
            "description_width": ""
          }
        },
        "f8d5b9f9a11f42268140209411188789": {
          "model_module": "@jupyter-widgets/base",
          "model_name": "LayoutModel",
          "model_module_version": "1.2.0",
          "state": {
            "_model_module": "@jupyter-widgets/base",
            "_model_module_version": "1.2.0",
            "_model_name": "LayoutModel",
            "_view_count": null,
            "_view_module": "@jupyter-widgets/base",
            "_view_module_version": "1.2.0",
            "_view_name": "LayoutView",
            "align_content": null,
            "align_items": null,
            "align_self": null,
            "border": null,
            "bottom": null,
            "display": null,
            "flex": null,
            "flex_flow": null,
            "grid_area": null,
            "grid_auto_columns": null,
            "grid_auto_flow": null,
            "grid_auto_rows": null,
            "grid_column": null,
            "grid_gap": null,
            "grid_row": null,
            "grid_template_areas": null,
            "grid_template_columns": null,
            "grid_template_rows": null,
            "height": null,
            "justify_content": null,
            "justify_items": null,
            "left": null,
            "margin": null,
            "max_height": null,
            "max_width": null,
            "min_height": null,
            "min_width": null,
            "object_fit": null,
            "object_position": null,
            "order": null,
            "overflow": null,
            "overflow_x": null,
            "overflow_y": null,
            "padding": null,
            "right": null,
            "top": null,
            "visibility": null,
            "width": null
          }
        },
        "62f02c9b1b82499cb42b61f9124a1058": {
          "model_module": "@jupyter-widgets/controls",
          "model_name": "DescriptionStyleModel",
          "model_module_version": "1.5.0",
          "state": {
            "_model_module": "@jupyter-widgets/controls",
            "_model_module_version": "1.5.0",
            "_model_name": "DescriptionStyleModel",
            "_view_count": null,
            "_view_module": "@jupyter-widgets/base",
            "_view_module_version": "1.2.0",
            "_view_name": "StyleView",
            "description_width": ""
          }
        },
        "109b6d661b964a1b9345a6f4dece5967": {
          "model_module": "@jupyter-widgets/controls",
          "model_name": "HBoxModel",
          "model_module_version": "1.5.0",
          "state": {
            "_dom_classes": [],
            "_model_module": "@jupyter-widgets/controls",
            "_model_module_version": "1.5.0",
            "_model_name": "HBoxModel",
            "_view_count": null,
            "_view_module": "@jupyter-widgets/controls",
            "_view_module_version": "1.5.0",
            "_view_name": "HBoxView",
            "box_style": "",
            "children": [
              "IPY_MODEL_a958ca90cfbe4f35ae0adb89aab72f8f",
              "IPY_MODEL_570f86d5d7ba4c819b10e2eb37a80971",
              "IPY_MODEL_e04f532613dc45d68da78f12b339d1d5"
            ],
            "layout": "IPY_MODEL_0d710d084c1b476b82352a9fc4c13d2f"
          }
        },
        "a958ca90cfbe4f35ae0adb89aab72f8f": {
          "model_module": "@jupyter-widgets/controls",
          "model_name": "HTMLModel",
          "model_module_version": "1.5.0",
          "state": {
            "_dom_classes": [],
            "_model_module": "@jupyter-widgets/controls",
            "_model_module_version": "1.5.0",
            "_model_name": "HTMLModel",
            "_view_count": null,
            "_view_module": "@jupyter-widgets/controls",
            "_view_module_version": "1.5.0",
            "_view_name": "HTMLView",
            "description": "",
            "description_tooltip": null,
            "layout": "IPY_MODEL_4b94b48bd21d45cf9614a21e2aaffc46",
            "placeholder": "​",
            "style": "IPY_MODEL_15db3bc3b2c0477da69e810b6aacd8ce",
            "value": "config.json: 100%"
          }
        },
        "570f86d5d7ba4c819b10e2eb37a80971": {
          "model_module": "@jupyter-widgets/controls",
          "model_name": "FloatProgressModel",
          "model_module_version": "1.5.0",
          "state": {
            "_dom_classes": [],
            "_model_module": "@jupyter-widgets/controls",
            "_model_module_version": "1.5.0",
            "_model_name": "FloatProgressModel",
            "_view_count": null,
            "_view_module": "@jupyter-widgets/controls",
            "_view_module_version": "1.5.0",
            "_view_name": "ProgressView",
            "bar_style": "success",
            "description": "",
            "description_tooltip": null,
            "layout": "IPY_MODEL_c679a7c769e34b97a89ea4c3f5718322",
            "max": 570,
            "min": 0,
            "orientation": "horizontal",
            "style": "IPY_MODEL_4f0f1a6d0dbe4b439de413f9793af006",
            "value": 570
          }
        },
        "e04f532613dc45d68da78f12b339d1d5": {
          "model_module": "@jupyter-widgets/controls",
          "model_name": "HTMLModel",
          "model_module_version": "1.5.0",
          "state": {
            "_dom_classes": [],
            "_model_module": "@jupyter-widgets/controls",
            "_model_module_version": "1.5.0",
            "_model_name": "HTMLModel",
            "_view_count": null,
            "_view_module": "@jupyter-widgets/controls",
            "_view_module_version": "1.5.0",
            "_view_name": "HTMLView",
            "description": "",
            "description_tooltip": null,
            "layout": "IPY_MODEL_1d59f32d22994f5da0e326681eb8357a",
            "placeholder": "​",
            "style": "IPY_MODEL_5a6a1bf4d5b74007a22340141c109587",
            "value": " 570/570 [00:00&lt;00:00, 58.7kB/s]"
          }
        },
        "0d710d084c1b476b82352a9fc4c13d2f": {
          "model_module": "@jupyter-widgets/base",
          "model_name": "LayoutModel",
          "model_module_version": "1.2.0",
          "state": {
            "_model_module": "@jupyter-widgets/base",
            "_model_module_version": "1.2.0",
            "_model_name": "LayoutModel",
            "_view_count": null,
            "_view_module": "@jupyter-widgets/base",
            "_view_module_version": "1.2.0",
            "_view_name": "LayoutView",
            "align_content": null,
            "align_items": null,
            "align_self": null,
            "border": null,
            "bottom": null,
            "display": null,
            "flex": null,
            "flex_flow": null,
            "grid_area": null,
            "grid_auto_columns": null,
            "grid_auto_flow": null,
            "grid_auto_rows": null,
            "grid_column": null,
            "grid_gap": null,
            "grid_row": null,
            "grid_template_areas": null,
            "grid_template_columns": null,
            "grid_template_rows": null,
            "height": null,
            "justify_content": null,
            "justify_items": null,
            "left": null,
            "margin": null,
            "max_height": null,
            "max_width": null,
            "min_height": null,
            "min_width": null,
            "object_fit": null,
            "object_position": null,
            "order": null,
            "overflow": null,
            "overflow_x": null,
            "overflow_y": null,
            "padding": null,
            "right": null,
            "top": null,
            "visibility": null,
            "width": null
          }
        },
        "4b94b48bd21d45cf9614a21e2aaffc46": {
          "model_module": "@jupyter-widgets/base",
          "model_name": "LayoutModel",
          "model_module_version": "1.2.0",
          "state": {
            "_model_module": "@jupyter-widgets/base",
            "_model_module_version": "1.2.0",
            "_model_name": "LayoutModel",
            "_view_count": null,
            "_view_module": "@jupyter-widgets/base",
            "_view_module_version": "1.2.0",
            "_view_name": "LayoutView",
            "align_content": null,
            "align_items": null,
            "align_self": null,
            "border": null,
            "bottom": null,
            "display": null,
            "flex": null,
            "flex_flow": null,
            "grid_area": null,
            "grid_auto_columns": null,
            "grid_auto_flow": null,
            "grid_auto_rows": null,
            "grid_column": null,
            "grid_gap": null,
            "grid_row": null,
            "grid_template_areas": null,
            "grid_template_columns": null,
            "grid_template_rows": null,
            "height": null,
            "justify_content": null,
            "justify_items": null,
            "left": null,
            "margin": null,
            "max_height": null,
            "max_width": null,
            "min_height": null,
            "min_width": null,
            "object_fit": null,
            "object_position": null,
            "order": null,
            "overflow": null,
            "overflow_x": null,
            "overflow_y": null,
            "padding": null,
            "right": null,
            "top": null,
            "visibility": null,
            "width": null
          }
        },
        "15db3bc3b2c0477da69e810b6aacd8ce": {
          "model_module": "@jupyter-widgets/controls",
          "model_name": "DescriptionStyleModel",
          "model_module_version": "1.5.0",
          "state": {
            "_model_module": "@jupyter-widgets/controls",
            "_model_module_version": "1.5.0",
            "_model_name": "DescriptionStyleModel",
            "_view_count": null,
            "_view_module": "@jupyter-widgets/base",
            "_view_module_version": "1.2.0",
            "_view_name": "StyleView",
            "description_width": ""
          }
        },
        "c679a7c769e34b97a89ea4c3f5718322": {
          "model_module": "@jupyter-widgets/base",
          "model_name": "LayoutModel",
          "model_module_version": "1.2.0",
          "state": {
            "_model_module": "@jupyter-widgets/base",
            "_model_module_version": "1.2.0",
            "_model_name": "LayoutModel",
            "_view_count": null,
            "_view_module": "@jupyter-widgets/base",
            "_view_module_version": "1.2.0",
            "_view_name": "LayoutView",
            "align_content": null,
            "align_items": null,
            "align_self": null,
            "border": null,
            "bottom": null,
            "display": null,
            "flex": null,
            "flex_flow": null,
            "grid_area": null,
            "grid_auto_columns": null,
            "grid_auto_flow": null,
            "grid_auto_rows": null,
            "grid_column": null,
            "grid_gap": null,
            "grid_row": null,
            "grid_template_areas": null,
            "grid_template_columns": null,
            "grid_template_rows": null,
            "height": null,
            "justify_content": null,
            "justify_items": null,
            "left": null,
            "margin": null,
            "max_height": null,
            "max_width": null,
            "min_height": null,
            "min_width": null,
            "object_fit": null,
            "object_position": null,
            "order": null,
            "overflow": null,
            "overflow_x": null,
            "overflow_y": null,
            "padding": null,
            "right": null,
            "top": null,
            "visibility": null,
            "width": null
          }
        },
        "4f0f1a6d0dbe4b439de413f9793af006": {
          "model_module": "@jupyter-widgets/controls",
          "model_name": "ProgressStyleModel",
          "model_module_version": "1.5.0",
          "state": {
            "_model_module": "@jupyter-widgets/controls",
            "_model_module_version": "1.5.0",
            "_model_name": "ProgressStyleModel",
            "_view_count": null,
            "_view_module": "@jupyter-widgets/base",
            "_view_module_version": "1.2.0",
            "_view_name": "StyleView",
            "bar_color": null,
            "description_width": ""
          }
        },
        "1d59f32d22994f5da0e326681eb8357a": {
          "model_module": "@jupyter-widgets/base",
          "model_name": "LayoutModel",
          "model_module_version": "1.2.0",
          "state": {
            "_model_module": "@jupyter-widgets/base",
            "_model_module_version": "1.2.0",
            "_model_name": "LayoutModel",
            "_view_count": null,
            "_view_module": "@jupyter-widgets/base",
            "_view_module_version": "1.2.0",
            "_view_name": "LayoutView",
            "align_content": null,
            "align_items": null,
            "align_self": null,
            "border": null,
            "bottom": null,
            "display": null,
            "flex": null,
            "flex_flow": null,
            "grid_area": null,
            "grid_auto_columns": null,
            "grid_auto_flow": null,
            "grid_auto_rows": null,
            "grid_column": null,
            "grid_gap": null,
            "grid_row": null,
            "grid_template_areas": null,
            "grid_template_columns": null,
            "grid_template_rows": null,
            "height": null,
            "justify_content": null,
            "justify_items": null,
            "left": null,
            "margin": null,
            "max_height": null,
            "max_width": null,
            "min_height": null,
            "min_width": null,
            "object_fit": null,
            "object_position": null,
            "order": null,
            "overflow": null,
            "overflow_x": null,
            "overflow_y": null,
            "padding": null,
            "right": null,
            "top": null,
            "visibility": null,
            "width": null
          }
        },
        "5a6a1bf4d5b74007a22340141c109587": {
          "model_module": "@jupyter-widgets/controls",
          "model_name": "DescriptionStyleModel",
          "model_module_version": "1.5.0",
          "state": {
            "_model_module": "@jupyter-widgets/controls",
            "_model_module_version": "1.5.0",
            "_model_name": "DescriptionStyleModel",
            "_view_count": null,
            "_view_module": "@jupyter-widgets/base",
            "_view_module_version": "1.2.0",
            "_view_name": "StyleView",
            "description_width": ""
          }
        },
        "4f725d4ddafb4a429f8749f7ca00f732": {
          "model_module": "@jupyter-widgets/controls",
          "model_name": "HBoxModel",
          "model_module_version": "1.5.0",
          "state": {
            "_dom_classes": [],
            "_model_module": "@jupyter-widgets/controls",
            "_model_module_version": "1.5.0",
            "_model_name": "HBoxModel",
            "_view_count": null,
            "_view_module": "@jupyter-widgets/controls",
            "_view_module_version": "1.5.0",
            "_view_name": "HBoxView",
            "box_style": "",
            "children": [
              "IPY_MODEL_a38ccf71fce6489d804c78f4ddc656da",
              "IPY_MODEL_eaf0af5bd7ae428da4ec5768910cefc1",
              "IPY_MODEL_2451d9ef39184daea8b4c64319312248"
            ],
            "layout": "IPY_MODEL_7f0aca2d1ef74787bba86624eef1939b"
          }
        },
        "a38ccf71fce6489d804c78f4ddc656da": {
          "model_module": "@jupyter-widgets/controls",
          "model_name": "HTMLModel",
          "model_module_version": "1.5.0",
          "state": {
            "_dom_classes": [],
            "_model_module": "@jupyter-widgets/controls",
            "_model_module_version": "1.5.0",
            "_model_name": "HTMLModel",
            "_view_count": null,
            "_view_module": "@jupyter-widgets/controls",
            "_view_module_version": "1.5.0",
            "_view_name": "HTMLView",
            "description": "",
            "description_tooltip": null,
            "layout": "IPY_MODEL_f22bdd094fff41008fddb860cc48d88b",
            "placeholder": "​",
            "style": "IPY_MODEL_517314d57ec445c88aa850b6010a78cc",
            "value": "Map: 100%"
          }
        },
        "eaf0af5bd7ae428da4ec5768910cefc1": {
          "model_module": "@jupyter-widgets/controls",
          "model_name": "FloatProgressModel",
          "model_module_version": "1.5.0",
          "state": {
            "_dom_classes": [],
            "_model_module": "@jupyter-widgets/controls",
            "_model_module_version": "1.5.0",
            "_model_name": "FloatProgressModel",
            "_view_count": null,
            "_view_module": "@jupyter-widgets/controls",
            "_view_module_version": "1.5.0",
            "_view_name": "ProgressView",
            "bar_style": "success",
            "description": "",
            "description_tooltip": null,
            "layout": "IPY_MODEL_4f5c0d3a46854194a05c5421d4cdf56c",
            "max": 3836,
            "min": 0,
            "orientation": "horizontal",
            "style": "IPY_MODEL_9604e82469a34df1a4ed8b0fa9e0057d",
            "value": 3836
          }
        },
        "2451d9ef39184daea8b4c64319312248": {
          "model_module": "@jupyter-widgets/controls",
          "model_name": "HTMLModel",
          "model_module_version": "1.5.0",
          "state": {
            "_dom_classes": [],
            "_model_module": "@jupyter-widgets/controls",
            "_model_module_version": "1.5.0",
            "_model_name": "HTMLModel",
            "_view_count": null,
            "_view_module": "@jupyter-widgets/controls",
            "_view_module_version": "1.5.0",
            "_view_name": "HTMLView",
            "description": "",
            "description_tooltip": null,
            "layout": "IPY_MODEL_40544ac8b90a472c9a118c117526db6e",
            "placeholder": "​",
            "style": "IPY_MODEL_df58dd4021794904bb0b0870f62ab180",
            "value": " 3836/3836 [00:03&lt;00:00, 1152.45 examples/s]"
          }
        },
        "7f0aca2d1ef74787bba86624eef1939b": {
          "model_module": "@jupyter-widgets/base",
          "model_name": "LayoutModel",
          "model_module_version": "1.2.0",
          "state": {
            "_model_module": "@jupyter-widgets/base",
            "_model_module_version": "1.2.0",
            "_model_name": "LayoutModel",
            "_view_count": null,
            "_view_module": "@jupyter-widgets/base",
            "_view_module_version": "1.2.0",
            "_view_name": "LayoutView",
            "align_content": null,
            "align_items": null,
            "align_self": null,
            "border": null,
            "bottom": null,
            "display": null,
            "flex": null,
            "flex_flow": null,
            "grid_area": null,
            "grid_auto_columns": null,
            "grid_auto_flow": null,
            "grid_auto_rows": null,
            "grid_column": null,
            "grid_gap": null,
            "grid_row": null,
            "grid_template_areas": null,
            "grid_template_columns": null,
            "grid_template_rows": null,
            "height": null,
            "justify_content": null,
            "justify_items": null,
            "left": null,
            "margin": null,
            "max_height": null,
            "max_width": null,
            "min_height": null,
            "min_width": null,
            "object_fit": null,
            "object_position": null,
            "order": null,
            "overflow": null,
            "overflow_x": null,
            "overflow_y": null,
            "padding": null,
            "right": null,
            "top": null,
            "visibility": null,
            "width": null
          }
        },
        "f22bdd094fff41008fddb860cc48d88b": {
          "model_module": "@jupyter-widgets/base",
          "model_name": "LayoutModel",
          "model_module_version": "1.2.0",
          "state": {
            "_model_module": "@jupyter-widgets/base",
            "_model_module_version": "1.2.0",
            "_model_name": "LayoutModel",
            "_view_count": null,
            "_view_module": "@jupyter-widgets/base",
            "_view_module_version": "1.2.0",
            "_view_name": "LayoutView",
            "align_content": null,
            "align_items": null,
            "align_self": null,
            "border": null,
            "bottom": null,
            "display": null,
            "flex": null,
            "flex_flow": null,
            "grid_area": null,
            "grid_auto_columns": null,
            "grid_auto_flow": null,
            "grid_auto_rows": null,
            "grid_column": null,
            "grid_gap": null,
            "grid_row": null,
            "grid_template_areas": null,
            "grid_template_columns": null,
            "grid_template_rows": null,
            "height": null,
            "justify_content": null,
            "justify_items": null,
            "left": null,
            "margin": null,
            "max_height": null,
            "max_width": null,
            "min_height": null,
            "min_width": null,
            "object_fit": null,
            "object_position": null,
            "order": null,
            "overflow": null,
            "overflow_x": null,
            "overflow_y": null,
            "padding": null,
            "right": null,
            "top": null,
            "visibility": null,
            "width": null
          }
        },
        "517314d57ec445c88aa850b6010a78cc": {
          "model_module": "@jupyter-widgets/controls",
          "model_name": "DescriptionStyleModel",
          "model_module_version": "1.5.0",
          "state": {
            "_model_module": "@jupyter-widgets/controls",
            "_model_module_version": "1.5.0",
            "_model_name": "DescriptionStyleModel",
            "_view_count": null,
            "_view_module": "@jupyter-widgets/base",
            "_view_module_version": "1.2.0",
            "_view_name": "StyleView",
            "description_width": ""
          }
        },
        "4f5c0d3a46854194a05c5421d4cdf56c": {
          "model_module": "@jupyter-widgets/base",
          "model_name": "LayoutModel",
          "model_module_version": "1.2.0",
          "state": {
            "_model_module": "@jupyter-widgets/base",
            "_model_module_version": "1.2.0",
            "_model_name": "LayoutModel",
            "_view_count": null,
            "_view_module": "@jupyter-widgets/base",
            "_view_module_version": "1.2.0",
            "_view_name": "LayoutView",
            "align_content": null,
            "align_items": null,
            "align_self": null,
            "border": null,
            "bottom": null,
            "display": null,
            "flex": null,
            "flex_flow": null,
            "grid_area": null,
            "grid_auto_columns": null,
            "grid_auto_flow": null,
            "grid_auto_rows": null,
            "grid_column": null,
            "grid_gap": null,
            "grid_row": null,
            "grid_template_areas": null,
            "grid_template_columns": null,
            "grid_template_rows": null,
            "height": null,
            "justify_content": null,
            "justify_items": null,
            "left": null,
            "margin": null,
            "max_height": null,
            "max_width": null,
            "min_height": null,
            "min_width": null,
            "object_fit": null,
            "object_position": null,
            "order": null,
            "overflow": null,
            "overflow_x": null,
            "overflow_y": null,
            "padding": null,
            "right": null,
            "top": null,
            "visibility": null,
            "width": null
          }
        },
        "9604e82469a34df1a4ed8b0fa9e0057d": {
          "model_module": "@jupyter-widgets/controls",
          "model_name": "ProgressStyleModel",
          "model_module_version": "1.5.0",
          "state": {
            "_model_module": "@jupyter-widgets/controls",
            "_model_module_version": "1.5.0",
            "_model_name": "ProgressStyleModel",
            "_view_count": null,
            "_view_module": "@jupyter-widgets/base",
            "_view_module_version": "1.2.0",
            "_view_name": "StyleView",
            "bar_color": null,
            "description_width": ""
          }
        },
        "40544ac8b90a472c9a118c117526db6e": {
          "model_module": "@jupyter-widgets/base",
          "model_name": "LayoutModel",
          "model_module_version": "1.2.0",
          "state": {
            "_model_module": "@jupyter-widgets/base",
            "_model_module_version": "1.2.0",
            "_model_name": "LayoutModel",
            "_view_count": null,
            "_view_module": "@jupyter-widgets/base",
            "_view_module_version": "1.2.0",
            "_view_name": "LayoutView",
            "align_content": null,
            "align_items": null,
            "align_self": null,
            "border": null,
            "bottom": null,
            "display": null,
            "flex": null,
            "flex_flow": null,
            "grid_area": null,
            "grid_auto_columns": null,
            "grid_auto_flow": null,
            "grid_auto_rows": null,
            "grid_column": null,
            "grid_gap": null,
            "grid_row": null,
            "grid_template_areas": null,
            "grid_template_columns": null,
            "grid_template_rows": null,
            "height": null,
            "justify_content": null,
            "justify_items": null,
            "left": null,
            "margin": null,
            "max_height": null,
            "max_width": null,
            "min_height": null,
            "min_width": null,
            "object_fit": null,
            "object_position": null,
            "order": null,
            "overflow": null,
            "overflow_x": null,
            "overflow_y": null,
            "padding": null,
            "right": null,
            "top": null,
            "visibility": null,
            "width": null
          }
        },
        "df58dd4021794904bb0b0870f62ab180": {
          "model_module": "@jupyter-widgets/controls",
          "model_name": "DescriptionStyleModel",
          "model_module_version": "1.5.0",
          "state": {
            "_model_module": "@jupyter-widgets/controls",
            "_model_module_version": "1.5.0",
            "_model_name": "DescriptionStyleModel",
            "_view_count": null,
            "_view_module": "@jupyter-widgets/base",
            "_view_module_version": "1.2.0",
            "_view_name": "StyleView",
            "description_width": ""
          }
        },
        "8ef0552e32aa40e19a310f9e8ffcf01a": {
          "model_module": "@jupyter-widgets/controls",
          "model_name": "HBoxModel",
          "model_module_version": "1.5.0",
          "state": {
            "_dom_classes": [],
            "_model_module": "@jupyter-widgets/controls",
            "_model_module_version": "1.5.0",
            "_model_name": "HBoxModel",
            "_view_count": null,
            "_view_module": "@jupyter-widgets/controls",
            "_view_module_version": "1.5.0",
            "_view_name": "HBoxView",
            "box_style": "",
            "children": [
              "IPY_MODEL_4fe1ecb74b0d49358cae56c98b8b443a",
              "IPY_MODEL_19ddf3adcc2744d1b7c41adf7309c3ba",
              "IPY_MODEL_391d3da327dd46e9a99fa9dac337bcd9"
            ],
            "layout": "IPY_MODEL_a59f50cbe13f4ad6897809d3462c9a91"
          }
        },
        "4fe1ecb74b0d49358cae56c98b8b443a": {
          "model_module": "@jupyter-widgets/controls",
          "model_name": "HTMLModel",
          "model_module_version": "1.5.0",
          "state": {
            "_dom_classes": [],
            "_model_module": "@jupyter-widgets/controls",
            "_model_module_version": "1.5.0",
            "_model_name": "HTMLModel",
            "_view_count": null,
            "_view_module": "@jupyter-widgets/controls",
            "_view_module_version": "1.5.0",
            "_view_name": "HTMLView",
            "description": "",
            "description_tooltip": null,
            "layout": "IPY_MODEL_5f148717d7b345dcaeef043c0eafa054",
            "placeholder": "​",
            "style": "IPY_MODEL_1b8a8c542a194e7a85554d7149364f10",
            "value": "Map: 100%"
          }
        },
        "19ddf3adcc2744d1b7c41adf7309c3ba": {
          "model_module": "@jupyter-widgets/controls",
          "model_name": "FloatProgressModel",
          "model_module_version": "1.5.0",
          "state": {
            "_dom_classes": [],
            "_model_module": "@jupyter-widgets/controls",
            "_model_module_version": "1.5.0",
            "_model_name": "FloatProgressModel",
            "_view_count": null,
            "_view_module": "@jupyter-widgets/controls",
            "_view_module_version": "1.5.0",
            "_view_name": "ProgressView",
            "bar_style": "success",
            "description": "",
            "description_tooltip": null,
            "layout": "IPY_MODEL_47efa693239844daa7b5448eb99f8a70",
            "max": 959,
            "min": 0,
            "orientation": "horizontal",
            "style": "IPY_MODEL_a4c546cb9631484d881b4254b2ae573e",
            "value": 959
          }
        },
        "391d3da327dd46e9a99fa9dac337bcd9": {
          "model_module": "@jupyter-widgets/controls",
          "model_name": "HTMLModel",
          "model_module_version": "1.5.0",
          "state": {
            "_dom_classes": [],
            "_model_module": "@jupyter-widgets/controls",
            "_model_module_version": "1.5.0",
            "_model_name": "HTMLModel",
            "_view_count": null,
            "_view_module": "@jupyter-widgets/controls",
            "_view_module_version": "1.5.0",
            "_view_name": "HTMLView",
            "description": "",
            "description_tooltip": null,
            "layout": "IPY_MODEL_af097ee7080947568bcc6d710d53ff72",
            "placeholder": "​",
            "style": "IPY_MODEL_e83fbf1d6b4942f7afb917847df95e18",
            "value": " 959/959 [00:00&lt;00:00, 1597.43 examples/s]"
          }
        },
        "a59f50cbe13f4ad6897809d3462c9a91": {
          "model_module": "@jupyter-widgets/base",
          "model_name": "LayoutModel",
          "model_module_version": "1.2.0",
          "state": {
            "_model_module": "@jupyter-widgets/base",
            "_model_module_version": "1.2.0",
            "_model_name": "LayoutModel",
            "_view_count": null,
            "_view_module": "@jupyter-widgets/base",
            "_view_module_version": "1.2.0",
            "_view_name": "LayoutView",
            "align_content": null,
            "align_items": null,
            "align_self": null,
            "border": null,
            "bottom": null,
            "display": null,
            "flex": null,
            "flex_flow": null,
            "grid_area": null,
            "grid_auto_columns": null,
            "grid_auto_flow": null,
            "grid_auto_rows": null,
            "grid_column": null,
            "grid_gap": null,
            "grid_row": null,
            "grid_template_areas": null,
            "grid_template_columns": null,
            "grid_template_rows": null,
            "height": null,
            "justify_content": null,
            "justify_items": null,
            "left": null,
            "margin": null,
            "max_height": null,
            "max_width": null,
            "min_height": null,
            "min_width": null,
            "object_fit": null,
            "object_position": null,
            "order": null,
            "overflow": null,
            "overflow_x": null,
            "overflow_y": null,
            "padding": null,
            "right": null,
            "top": null,
            "visibility": null,
            "width": null
          }
        },
        "5f148717d7b345dcaeef043c0eafa054": {
          "model_module": "@jupyter-widgets/base",
          "model_name": "LayoutModel",
          "model_module_version": "1.2.0",
          "state": {
            "_model_module": "@jupyter-widgets/base",
            "_model_module_version": "1.2.0",
            "_model_name": "LayoutModel",
            "_view_count": null,
            "_view_module": "@jupyter-widgets/base",
            "_view_module_version": "1.2.0",
            "_view_name": "LayoutView",
            "align_content": null,
            "align_items": null,
            "align_self": null,
            "border": null,
            "bottom": null,
            "display": null,
            "flex": null,
            "flex_flow": null,
            "grid_area": null,
            "grid_auto_columns": null,
            "grid_auto_flow": null,
            "grid_auto_rows": null,
            "grid_column": null,
            "grid_gap": null,
            "grid_row": null,
            "grid_template_areas": null,
            "grid_template_columns": null,
            "grid_template_rows": null,
            "height": null,
            "justify_content": null,
            "justify_items": null,
            "left": null,
            "margin": null,
            "max_height": null,
            "max_width": null,
            "min_height": null,
            "min_width": null,
            "object_fit": null,
            "object_position": null,
            "order": null,
            "overflow": null,
            "overflow_x": null,
            "overflow_y": null,
            "padding": null,
            "right": null,
            "top": null,
            "visibility": null,
            "width": null
          }
        },
        "1b8a8c542a194e7a85554d7149364f10": {
          "model_module": "@jupyter-widgets/controls",
          "model_name": "DescriptionStyleModel",
          "model_module_version": "1.5.0",
          "state": {
            "_model_module": "@jupyter-widgets/controls",
            "_model_module_version": "1.5.0",
            "_model_name": "DescriptionStyleModel",
            "_view_count": null,
            "_view_module": "@jupyter-widgets/base",
            "_view_module_version": "1.2.0",
            "_view_name": "StyleView",
            "description_width": ""
          }
        },
        "47efa693239844daa7b5448eb99f8a70": {
          "model_module": "@jupyter-widgets/base",
          "model_name": "LayoutModel",
          "model_module_version": "1.2.0",
          "state": {
            "_model_module": "@jupyter-widgets/base",
            "_model_module_version": "1.2.0",
            "_model_name": "LayoutModel",
            "_view_count": null,
            "_view_module": "@jupyter-widgets/base",
            "_view_module_version": "1.2.0",
            "_view_name": "LayoutView",
            "align_content": null,
            "align_items": null,
            "align_self": null,
            "border": null,
            "bottom": null,
            "display": null,
            "flex": null,
            "flex_flow": null,
            "grid_area": null,
            "grid_auto_columns": null,
            "grid_auto_flow": null,
            "grid_auto_rows": null,
            "grid_column": null,
            "grid_gap": null,
            "grid_row": null,
            "grid_template_areas": null,
            "grid_template_columns": null,
            "grid_template_rows": null,
            "height": null,
            "justify_content": null,
            "justify_items": null,
            "left": null,
            "margin": null,
            "max_height": null,
            "max_width": null,
            "min_height": null,
            "min_width": null,
            "object_fit": null,
            "object_position": null,
            "order": null,
            "overflow": null,
            "overflow_x": null,
            "overflow_y": null,
            "padding": null,
            "right": null,
            "top": null,
            "visibility": null,
            "width": null
          }
        },
        "a4c546cb9631484d881b4254b2ae573e": {
          "model_module": "@jupyter-widgets/controls",
          "model_name": "ProgressStyleModel",
          "model_module_version": "1.5.0",
          "state": {
            "_model_module": "@jupyter-widgets/controls",
            "_model_module_version": "1.5.0",
            "_model_name": "ProgressStyleModel",
            "_view_count": null,
            "_view_module": "@jupyter-widgets/base",
            "_view_module_version": "1.2.0",
            "_view_name": "StyleView",
            "bar_color": null,
            "description_width": ""
          }
        },
        "af097ee7080947568bcc6d710d53ff72": {
          "model_module": "@jupyter-widgets/base",
          "model_name": "LayoutModel",
          "model_module_version": "1.2.0",
          "state": {
            "_model_module": "@jupyter-widgets/base",
            "_model_module_version": "1.2.0",
            "_model_name": "LayoutModel",
            "_view_count": null,
            "_view_module": "@jupyter-widgets/base",
            "_view_module_version": "1.2.0",
            "_view_name": "LayoutView",
            "align_content": null,
            "align_items": null,
            "align_self": null,
            "border": null,
            "bottom": null,
            "display": null,
            "flex": null,
            "flex_flow": null,
            "grid_area": null,
            "grid_auto_columns": null,
            "grid_auto_flow": null,
            "grid_auto_rows": null,
            "grid_column": null,
            "grid_gap": null,
            "grid_row": null,
            "grid_template_areas": null,
            "grid_template_columns": null,
            "grid_template_rows": null,
            "height": null,
            "justify_content": null,
            "justify_items": null,
            "left": null,
            "margin": null,
            "max_height": null,
            "max_width": null,
            "min_height": null,
            "min_width": null,
            "object_fit": null,
            "object_position": null,
            "order": null,
            "overflow": null,
            "overflow_x": null,
            "overflow_y": null,
            "padding": null,
            "right": null,
            "top": null,
            "visibility": null,
            "width": null
          }
        },
        "e83fbf1d6b4942f7afb917847df95e18": {
          "model_module": "@jupyter-widgets/controls",
          "model_name": "DescriptionStyleModel",
          "model_module_version": "1.5.0",
          "state": {
            "_model_module": "@jupyter-widgets/controls",
            "_model_module_version": "1.5.0",
            "_model_name": "DescriptionStyleModel",
            "_view_count": null,
            "_view_module": "@jupyter-widgets/base",
            "_view_module_version": "1.2.0",
            "_view_name": "StyleView",
            "description_width": ""
          }
        }
      }
    },
    "accelerator": "GPU"
  },
  "cells": [
    {
      "cell_type": "markdown",
      "source": [
        "# Tugas Besar IF5250 (Mini Transformer)\n",
        "Nama: Dzikri Muhammad Raditya Putra\n",
        "\n",
        "NIM: 18221144"
      ],
      "metadata": {
        "id": "SyTzvtIczIxs"
      }
    },
    {
      "cell_type": "code",
      "execution_count": 1,
      "metadata": {
        "id": "TER8oyLS7f6Z"
      },
      "outputs": [],
      "source": [
        "import tensorflow as tf\n",
        "import numpy as np\n",
        "import pandas as pd\n",
        "from datasets import Dataset, Features, Sequence, Value\n",
        "from tokenizers import BertWordPieceTokenizer\n",
        "from sklearn.preprocessing import LabelEncoder\n",
        "from tensorflow.keras import layers\n",
        "from transformers import BertTokenizerFast"
      ]
    },
    {
      "cell_type": "code",
      "source": [
        "import kagglehub\n",
        "\n",
        "path = kagglehub.dataset_download(\"debasisdotcom/name-entity-recognition-ner-dataset\")\n",
        "\n",
        "print(\"Path to dataset files:\", path)"
      ],
      "metadata": {
        "colab": {
          "base_uri": "https://localhost:8080/"
        },
        "id": "1DvbV3hNLb0S",
        "outputId": "af713023-c774-4945-e6ee-3fc73611465c"
      },
      "execution_count": 2,
      "outputs": [
        {
          "output_type": "stream",
          "name": "stdout",
          "text": [
            "Downloading from https://www.kaggle.com/api/v1/datasets/download/debasisdotcom/name-entity-recognition-ner-dataset?dataset_version_number=1...\n"
          ]
        },
        {
          "output_type": "stream",
          "name": "stderr",
          "text": [
            "100%|██████████| 3.17M/3.17M [00:00<00:00, 138MB/s]"
          ]
        },
        {
          "output_type": "stream",
          "name": "stdout",
          "text": [
            "Extracting files...\n",
            "Path to dataset files: /root/.cache/kagglehub/datasets/debasisdotcom/name-entity-recognition-ner-dataset/versions/1\n"
          ]
        },
        {
          "output_type": "stream",
          "name": "stderr",
          "text": [
            "\n"
          ]
        }
      ]
    },
    {
      "cell_type": "code",
      "source": [
        "import os\n",
        "\n",
        "for filename in os.listdir(path):\n",
        "    print(filename)"
      ],
      "metadata": {
        "colab": {
          "base_uri": "https://localhost:8080/"
        },
        "id": "qe2ONdt6LiCb",
        "outputId": "7b25c3f3-97bd-43d5-bf76-9c1e3fa325b2"
      },
      "execution_count": 3,
      "outputs": [
        {
          "output_type": "stream",
          "name": "stdout",
          "text": [
            "NER dataset.csv\n"
          ]
        }
      ]
    },
    {
      "cell_type": "code",
      "source": [
        "import pandas as pd\n",
        "\n",
        "df = pd.read_csv(os.path.join(path, 'NER dataset.csv'), encoding='windows-1252')\n",
        "print(len(df))"
      ],
      "metadata": {
        "colab": {
          "base_uri": "https://localhost:8080/"
        },
        "id": "z_7pxlYtL1II",
        "outputId": "6b31ea22-09c7-49b3-82b1-fbcab855f897"
      },
      "execution_count": 4,
      "outputs": [
        {
          "output_type": "stream",
          "name": "stdout",
          "text": [
            "1048575\n"
          ]
        }
      ]
    },
    {
      "cell_type": "code",
      "source": [
        "df['Sentence #'] = df['Sentence #'].fillna(method='ffill')"
      ],
      "metadata": {
        "colab": {
          "base_uri": "https://localhost:8080/"
        },
        "id": "oTJdyulAD1gI",
        "outputId": "e6f1b419-4002-4e80-fb38-b61d26066da2"
      },
      "execution_count": 5,
      "outputs": [
        {
          "output_type": "stream",
          "name": "stderr",
          "text": [
            "<ipython-input-5-aea47a665d3e>:1: FutureWarning: Series.fillna with 'method' is deprecated and will raise in a future version. Use obj.ffill() or obj.bfill() instead.\n",
            "  df['Sentence #'] = df['Sentence #'].fillna(method='ffill')\n"
          ]
        }
      ]
    },
    {
      "cell_type": "code",
      "source": [
        "df[:10]"
      ],
      "metadata": {
        "colab": {
          "base_uri": "https://localhost:8080/",
          "height": 363
        },
        "id": "3r85kTRYAKoY",
        "outputId": "cc63c877-4121-4a8b-e3ac-69e1e653b8e2"
      },
      "execution_count": 6,
      "outputs": [
        {
          "output_type": "execute_result",
          "data": {
            "text/plain": [
              "    Sentence #           Word  POS    Tag\n",
              "0  Sentence: 1      Thousands  NNS      O\n",
              "1  Sentence: 1             of   IN      O\n",
              "2  Sentence: 1  demonstrators  NNS      O\n",
              "3  Sentence: 1           have  VBP      O\n",
              "4  Sentence: 1        marched  VBN      O\n",
              "5  Sentence: 1        through   IN      O\n",
              "6  Sentence: 1         London  NNP  B-geo\n",
              "7  Sentence: 1             to   TO      O\n",
              "8  Sentence: 1        protest   VB      O\n",
              "9  Sentence: 1            the   DT      O"
            ],
            "text/html": [
              "\n",
              "  <div id=\"df-1ad19eb7-87b1-46ac-a7f4-55fdd7d4226e\" class=\"colab-df-container\">\n",
              "    <div>\n",
              "<style scoped>\n",
              "    .dataframe tbody tr th:only-of-type {\n",
              "        vertical-align: middle;\n",
              "    }\n",
              "\n",
              "    .dataframe tbody tr th {\n",
              "        vertical-align: top;\n",
              "    }\n",
              "\n",
              "    .dataframe thead th {\n",
              "        text-align: right;\n",
              "    }\n",
              "</style>\n",
              "<table border=\"1\" class=\"dataframe\">\n",
              "  <thead>\n",
              "    <tr style=\"text-align: right;\">\n",
              "      <th></th>\n",
              "      <th>Sentence #</th>\n",
              "      <th>Word</th>\n",
              "      <th>POS</th>\n",
              "      <th>Tag</th>\n",
              "    </tr>\n",
              "  </thead>\n",
              "  <tbody>\n",
              "    <tr>\n",
              "      <th>0</th>\n",
              "      <td>Sentence: 1</td>\n",
              "      <td>Thousands</td>\n",
              "      <td>NNS</td>\n",
              "      <td>O</td>\n",
              "    </tr>\n",
              "    <tr>\n",
              "      <th>1</th>\n",
              "      <td>Sentence: 1</td>\n",
              "      <td>of</td>\n",
              "      <td>IN</td>\n",
              "      <td>O</td>\n",
              "    </tr>\n",
              "    <tr>\n",
              "      <th>2</th>\n",
              "      <td>Sentence: 1</td>\n",
              "      <td>demonstrators</td>\n",
              "      <td>NNS</td>\n",
              "      <td>O</td>\n",
              "    </tr>\n",
              "    <tr>\n",
              "      <th>3</th>\n",
              "      <td>Sentence: 1</td>\n",
              "      <td>have</td>\n",
              "      <td>VBP</td>\n",
              "      <td>O</td>\n",
              "    </tr>\n",
              "    <tr>\n",
              "      <th>4</th>\n",
              "      <td>Sentence: 1</td>\n",
              "      <td>marched</td>\n",
              "      <td>VBN</td>\n",
              "      <td>O</td>\n",
              "    </tr>\n",
              "    <tr>\n",
              "      <th>5</th>\n",
              "      <td>Sentence: 1</td>\n",
              "      <td>through</td>\n",
              "      <td>IN</td>\n",
              "      <td>O</td>\n",
              "    </tr>\n",
              "    <tr>\n",
              "      <th>6</th>\n",
              "      <td>Sentence: 1</td>\n",
              "      <td>London</td>\n",
              "      <td>NNP</td>\n",
              "      <td>B-geo</td>\n",
              "    </tr>\n",
              "    <tr>\n",
              "      <th>7</th>\n",
              "      <td>Sentence: 1</td>\n",
              "      <td>to</td>\n",
              "      <td>TO</td>\n",
              "      <td>O</td>\n",
              "    </tr>\n",
              "    <tr>\n",
              "      <th>8</th>\n",
              "      <td>Sentence: 1</td>\n",
              "      <td>protest</td>\n",
              "      <td>VB</td>\n",
              "      <td>O</td>\n",
              "    </tr>\n",
              "    <tr>\n",
              "      <th>9</th>\n",
              "      <td>Sentence: 1</td>\n",
              "      <td>the</td>\n",
              "      <td>DT</td>\n",
              "      <td>O</td>\n",
              "    </tr>\n",
              "  </tbody>\n",
              "</table>\n",
              "</div>\n",
              "    <div class=\"colab-df-buttons\">\n",
              "\n",
              "  <div class=\"colab-df-container\">\n",
              "    <button class=\"colab-df-convert\" onclick=\"convertToInteractive('df-1ad19eb7-87b1-46ac-a7f4-55fdd7d4226e')\"\n",
              "            title=\"Convert this dataframe to an interactive table.\"\n",
              "            style=\"display:none;\">\n",
              "\n",
              "  <svg xmlns=\"http://www.w3.org/2000/svg\" height=\"24px\" viewBox=\"0 -960 960 960\">\n",
              "    <path d=\"M120-120v-720h720v720H120Zm60-500h600v-160H180v160Zm220 220h160v-160H400v160Zm0 220h160v-160H400v160ZM180-400h160v-160H180v160Zm440 0h160v-160H620v160ZM180-180h160v-160H180v160Zm440 0h160v-160H620v160Z\"/>\n",
              "  </svg>\n",
              "    </button>\n",
              "\n",
              "  <style>\n",
              "    .colab-df-container {\n",
              "      display:flex;\n",
              "      gap: 12px;\n",
              "    }\n",
              "\n",
              "    .colab-df-convert {\n",
              "      background-color: #E8F0FE;\n",
              "      border: none;\n",
              "      border-radius: 50%;\n",
              "      cursor: pointer;\n",
              "      display: none;\n",
              "      fill: #1967D2;\n",
              "      height: 32px;\n",
              "      padding: 0 0 0 0;\n",
              "      width: 32px;\n",
              "    }\n",
              "\n",
              "    .colab-df-convert:hover {\n",
              "      background-color: #E2EBFA;\n",
              "      box-shadow: 0px 1px 2px rgba(60, 64, 67, 0.3), 0px 1px 3px 1px rgba(60, 64, 67, 0.15);\n",
              "      fill: #174EA6;\n",
              "    }\n",
              "\n",
              "    .colab-df-buttons div {\n",
              "      margin-bottom: 4px;\n",
              "    }\n",
              "\n",
              "    [theme=dark] .colab-df-convert {\n",
              "      background-color: #3B4455;\n",
              "      fill: #D2E3FC;\n",
              "    }\n",
              "\n",
              "    [theme=dark] .colab-df-convert:hover {\n",
              "      background-color: #434B5C;\n",
              "      box-shadow: 0px 1px 3px 1px rgba(0, 0, 0, 0.15);\n",
              "      filter: drop-shadow(0px 1px 2px rgba(0, 0, 0, 0.3));\n",
              "      fill: #FFFFFF;\n",
              "    }\n",
              "  </style>\n",
              "\n",
              "    <script>\n",
              "      const buttonEl =\n",
              "        document.querySelector('#df-1ad19eb7-87b1-46ac-a7f4-55fdd7d4226e button.colab-df-convert');\n",
              "      buttonEl.style.display =\n",
              "        google.colab.kernel.accessAllowed ? 'block' : 'none';\n",
              "\n",
              "      async function convertToInteractive(key) {\n",
              "        const element = document.querySelector('#df-1ad19eb7-87b1-46ac-a7f4-55fdd7d4226e');\n",
              "        const dataTable =\n",
              "          await google.colab.kernel.invokeFunction('convertToInteractive',\n",
              "                                                    [key], {});\n",
              "        if (!dataTable) return;\n",
              "\n",
              "        const docLinkHtml = 'Like what you see? Visit the ' +\n",
              "          '<a target=\"_blank\" href=https://colab.research.google.com/notebooks/data_table.ipynb>data table notebook</a>'\n",
              "          + ' to learn more about interactive tables.';\n",
              "        element.innerHTML = '';\n",
              "        dataTable['output_type'] = 'display_data';\n",
              "        await google.colab.output.renderOutput(dataTable, element);\n",
              "        const docLink = document.createElement('div');\n",
              "        docLink.innerHTML = docLinkHtml;\n",
              "        element.appendChild(docLink);\n",
              "      }\n",
              "    </script>\n",
              "  </div>\n",
              "\n",
              "\n",
              "    <div id=\"df-7d8be88f-ec4a-4c6c-a9b9-e6b55c61d0f6\">\n",
              "      <button class=\"colab-df-quickchart\" onclick=\"quickchart('df-7d8be88f-ec4a-4c6c-a9b9-e6b55c61d0f6')\"\n",
              "                title=\"Suggest charts\"\n",
              "                style=\"display:none;\">\n",
              "\n",
              "<svg xmlns=\"http://www.w3.org/2000/svg\" height=\"24px\"viewBox=\"0 0 24 24\"\n",
              "     width=\"24px\">\n",
              "    <g>\n",
              "        <path d=\"M19 3H5c-1.1 0-2 .9-2 2v14c0 1.1.9 2 2 2h14c1.1 0 2-.9 2-2V5c0-1.1-.9-2-2-2zM9 17H7v-7h2v7zm4 0h-2V7h2v10zm4 0h-2v-4h2v4z\"/>\n",
              "    </g>\n",
              "</svg>\n",
              "      </button>\n",
              "\n",
              "<style>\n",
              "  .colab-df-quickchart {\n",
              "      --bg-color: #E8F0FE;\n",
              "      --fill-color: #1967D2;\n",
              "      --hover-bg-color: #E2EBFA;\n",
              "      --hover-fill-color: #174EA6;\n",
              "      --disabled-fill-color: #AAA;\n",
              "      --disabled-bg-color: #DDD;\n",
              "  }\n",
              "\n",
              "  [theme=dark] .colab-df-quickchart {\n",
              "      --bg-color: #3B4455;\n",
              "      --fill-color: #D2E3FC;\n",
              "      --hover-bg-color: #434B5C;\n",
              "      --hover-fill-color: #FFFFFF;\n",
              "      --disabled-bg-color: #3B4455;\n",
              "      --disabled-fill-color: #666;\n",
              "  }\n",
              "\n",
              "  .colab-df-quickchart {\n",
              "    background-color: var(--bg-color);\n",
              "    border: none;\n",
              "    border-radius: 50%;\n",
              "    cursor: pointer;\n",
              "    display: none;\n",
              "    fill: var(--fill-color);\n",
              "    height: 32px;\n",
              "    padding: 0;\n",
              "    width: 32px;\n",
              "  }\n",
              "\n",
              "  .colab-df-quickchart:hover {\n",
              "    background-color: var(--hover-bg-color);\n",
              "    box-shadow: 0 1px 2px rgba(60, 64, 67, 0.3), 0 1px 3px 1px rgba(60, 64, 67, 0.15);\n",
              "    fill: var(--button-hover-fill-color);\n",
              "  }\n",
              "\n",
              "  .colab-df-quickchart-complete:disabled,\n",
              "  .colab-df-quickchart-complete:disabled:hover {\n",
              "    background-color: var(--disabled-bg-color);\n",
              "    fill: var(--disabled-fill-color);\n",
              "    box-shadow: none;\n",
              "  }\n",
              "\n",
              "  .colab-df-spinner {\n",
              "    border: 2px solid var(--fill-color);\n",
              "    border-color: transparent;\n",
              "    border-bottom-color: var(--fill-color);\n",
              "    animation:\n",
              "      spin 1s steps(1) infinite;\n",
              "  }\n",
              "\n",
              "  @keyframes spin {\n",
              "    0% {\n",
              "      border-color: transparent;\n",
              "      border-bottom-color: var(--fill-color);\n",
              "      border-left-color: var(--fill-color);\n",
              "    }\n",
              "    20% {\n",
              "      border-color: transparent;\n",
              "      border-left-color: var(--fill-color);\n",
              "      border-top-color: var(--fill-color);\n",
              "    }\n",
              "    30% {\n",
              "      border-color: transparent;\n",
              "      border-left-color: var(--fill-color);\n",
              "      border-top-color: var(--fill-color);\n",
              "      border-right-color: var(--fill-color);\n",
              "    }\n",
              "    40% {\n",
              "      border-color: transparent;\n",
              "      border-right-color: var(--fill-color);\n",
              "      border-top-color: var(--fill-color);\n",
              "    }\n",
              "    60% {\n",
              "      border-color: transparent;\n",
              "      border-right-color: var(--fill-color);\n",
              "    }\n",
              "    80% {\n",
              "      border-color: transparent;\n",
              "      border-right-color: var(--fill-color);\n",
              "      border-bottom-color: var(--fill-color);\n",
              "    }\n",
              "    90% {\n",
              "      border-color: transparent;\n",
              "      border-bottom-color: var(--fill-color);\n",
              "    }\n",
              "  }\n",
              "</style>\n",
              "\n",
              "      <script>\n",
              "        async function quickchart(key) {\n",
              "          const quickchartButtonEl =\n",
              "            document.querySelector('#' + key + ' button');\n",
              "          quickchartButtonEl.disabled = true;  // To prevent multiple clicks.\n",
              "          quickchartButtonEl.classList.add('colab-df-spinner');\n",
              "          try {\n",
              "            const charts = await google.colab.kernel.invokeFunction(\n",
              "                'suggestCharts', [key], {});\n",
              "          } catch (error) {\n",
              "            console.error('Error during call to suggestCharts:', error);\n",
              "          }\n",
              "          quickchartButtonEl.classList.remove('colab-df-spinner');\n",
              "          quickchartButtonEl.classList.add('colab-df-quickchart-complete');\n",
              "        }\n",
              "        (() => {\n",
              "          let quickchartButtonEl =\n",
              "            document.querySelector('#df-7d8be88f-ec4a-4c6c-a9b9-e6b55c61d0f6 button');\n",
              "          quickchartButtonEl.style.display =\n",
              "            google.colab.kernel.accessAllowed ? 'block' : 'none';\n",
              "        })();\n",
              "      </script>\n",
              "    </div>\n",
              "\n",
              "    </div>\n",
              "  </div>\n"
            ],
            "application/vnd.google.colaboratory.intrinsic+json": {
              "type": "dataframe",
              "summary": "{\n  \"name\": \"df[:10]\",\n  \"rows\": 10,\n  \"fields\": [\n    {\n      \"column\": \"Sentence #\",\n      \"properties\": {\n        \"dtype\": \"category\",\n        \"num_unique_values\": 1,\n        \"samples\": [\n          \"Sentence: 1\"\n        ],\n        \"semantic_type\": \"\",\n        \"description\": \"\"\n      }\n    },\n    {\n      \"column\": \"Word\",\n      \"properties\": {\n        \"dtype\": \"string\",\n        \"num_unique_values\": 10,\n        \"samples\": [\n          \"protest\"\n        ],\n        \"semantic_type\": \"\",\n        \"description\": \"\"\n      }\n    },\n    {\n      \"column\": \"POS\",\n      \"properties\": {\n        \"dtype\": \"string\",\n        \"num_unique_values\": 8,\n        \"samples\": [\n          \"IN\"\n        ],\n        \"semantic_type\": \"\",\n        \"description\": \"\"\n      }\n    },\n    {\n      \"column\": \"Tag\",\n      \"properties\": {\n        \"dtype\": \"category\",\n        \"num_unique_values\": 2,\n        \"samples\": [\n          \"B-geo\"\n        ],\n        \"semantic_type\": \"\",\n        \"description\": \"\"\n      }\n    }\n  ]\n}"
            }
          },
          "metadata": {},
          "execution_count": 6
        }
      ]
    },
    {
      "cell_type": "code",
      "source": [
        "df.to_csv(\"data_text.txt\")"
      ],
      "metadata": {
        "id": "6RN28dILlo6f"
      },
      "execution_count": 7,
      "outputs": []
    },
    {
      "cell_type": "code",
      "source": [
        "grouped = df.groupby(\"Sentence #\").agg(list)\n",
        "grouped = grouped[:int(len(grouped) * 0.1)]\n"
      ],
      "metadata": {
        "id": "Q5UGjwquC7JD"
      },
      "execution_count": 8,
      "outputs": []
    },
    {
      "cell_type": "code",
      "source": [
        "len(grouped)"
      ],
      "metadata": {
        "colab": {
          "base_uri": "https://localhost:8080/"
        },
        "id": "1ICIZnjDLYL2",
        "outputId": "c36d6e7b-e579-46e8-fb2d-14af0722a62d"
      },
      "execution_count": 9,
      "outputs": [
        {
          "output_type": "execute_result",
          "data": {
            "text/plain": [
              "4795"
            ]
          },
          "metadata": {},
          "execution_count": 9
        }
      ]
    },
    {
      "cell_type": "code",
      "source": [
        "sentences = grouped['Word'].tolist()\n",
        "ner_tags = grouped['Tag'].tolist()"
      ],
      "metadata": {
        "id": "BiPPC1ean3Xr"
      },
      "execution_count": 10,
      "outputs": []
    },
    {
      "cell_type": "code",
      "source": [
        "len(ner_tags)"
      ],
      "metadata": {
        "colab": {
          "base_uri": "https://localhost:8080/"
        },
        "id": "Fi7lXj3ZLZ58",
        "outputId": "470c8b88-3248-477a-fb46-f9c676b881ce"
      },
      "execution_count": 11,
      "outputs": [
        {
          "output_type": "execute_result",
          "data": {
            "text/plain": [
              "4795"
            ]
          },
          "metadata": {},
          "execution_count": 11
        }
      ]
    },
    {
      "cell_type": "code",
      "source": [
        "len(sentences)"
      ],
      "metadata": {
        "colab": {
          "base_uri": "https://localhost:8080/"
        },
        "id": "VFf8AkW3LdrQ",
        "outputId": "4052e7f2-b63a-4fe3-9fdd-5d2e50d80c7c"
      },
      "execution_count": 12,
      "outputs": [
        {
          "output_type": "execute_result",
          "data": {
            "text/plain": [
              "4795"
            ]
          },
          "metadata": {},
          "execution_count": 12
        }
      ]
    },
    {
      "cell_type": "code",
      "source": [
        "grouped[:4]"
      ],
      "metadata": {
        "colab": {
          "base_uri": "https://localhost:8080/",
          "height": 275
        },
        "id": "OW2iN00vD84y",
        "outputId": "fe5a63be-3b08-495e-aa4c-ff8b2ed5f242"
      },
      "execution_count": 13,
      "outputs": [
        {
          "output_type": "execute_result",
          "data": {
            "text/plain": [
              "                                                             Word  \\\n",
              "Sentence #                                                          \n",
              "Sentence: 1     [Thousands, of, demonstrators, have, marched, ...   \n",
              "Sentence: 10    [Iranian, officials, say, they, expect, to, ge...   \n",
              "Sentence: 100   [Helicopter, gunships, Saturday, pounded, mili...   \n",
              "Sentence: 1000  [They, left, after, a, tense, hour-long, stand...   \n",
              "\n",
              "                                                              POS  \\\n",
              "Sentence #                                                          \n",
              "Sentence: 1     [NNS, IN, NNS, VBP, VBN, IN, NNP, TO, VB, DT, ...   \n",
              "Sentence: 10    [JJ, NNS, VBP, PRP, VBP, TO, VB, NN, TO, JJ, J...   \n",
              "Sentence: 100   [NN, NNS, NNP, VBD, JJ, NNS, IN, DT, NNP, JJ, ...   \n",
              "Sentence: 1000     [PRP, VBD, IN, DT, NN, JJ, NN, IN, NN, NNS, .]   \n",
              "\n",
              "                                                              Tag  \n",
              "Sentence #                                                         \n",
              "Sentence: 1     [O, O, O, O, O, O, B-geo, O, O, O, O, O, B-geo...  \n",
              "Sentence: 10    [B-gpe, O, O, O, O, O, O, O, O, O, O, O, O, O,...  \n",
              "Sentence: 100   [O, O, B-tim, O, O, O, O, O, B-geo, O, O, O, O...  \n",
              "Sentence: 1000                  [O, O, O, O, O, O, O, O, O, O, O]  "
            ],
            "text/html": [
              "\n",
              "  <div id=\"df-0e2b999b-1093-4669-a429-d56f78d5c697\" class=\"colab-df-container\">\n",
              "    <div>\n",
              "<style scoped>\n",
              "    .dataframe tbody tr th:only-of-type {\n",
              "        vertical-align: middle;\n",
              "    }\n",
              "\n",
              "    .dataframe tbody tr th {\n",
              "        vertical-align: top;\n",
              "    }\n",
              "\n",
              "    .dataframe thead th {\n",
              "        text-align: right;\n",
              "    }\n",
              "</style>\n",
              "<table border=\"1\" class=\"dataframe\">\n",
              "  <thead>\n",
              "    <tr style=\"text-align: right;\">\n",
              "      <th></th>\n",
              "      <th>Word</th>\n",
              "      <th>POS</th>\n",
              "      <th>Tag</th>\n",
              "    </tr>\n",
              "    <tr>\n",
              "      <th>Sentence #</th>\n",
              "      <th></th>\n",
              "      <th></th>\n",
              "      <th></th>\n",
              "    </tr>\n",
              "  </thead>\n",
              "  <tbody>\n",
              "    <tr>\n",
              "      <th>Sentence: 1</th>\n",
              "      <td>[Thousands, of, demonstrators, have, marched, ...</td>\n",
              "      <td>[NNS, IN, NNS, VBP, VBN, IN, NNP, TO, VB, DT, ...</td>\n",
              "      <td>[O, O, O, O, O, O, B-geo, O, O, O, O, O, B-geo...</td>\n",
              "    </tr>\n",
              "    <tr>\n",
              "      <th>Sentence: 10</th>\n",
              "      <td>[Iranian, officials, say, they, expect, to, ge...</td>\n",
              "      <td>[JJ, NNS, VBP, PRP, VBP, TO, VB, NN, TO, JJ, J...</td>\n",
              "      <td>[B-gpe, O, O, O, O, O, O, O, O, O, O, O, O, O,...</td>\n",
              "    </tr>\n",
              "    <tr>\n",
              "      <th>Sentence: 100</th>\n",
              "      <td>[Helicopter, gunships, Saturday, pounded, mili...</td>\n",
              "      <td>[NN, NNS, NNP, VBD, JJ, NNS, IN, DT, NNP, JJ, ...</td>\n",
              "      <td>[O, O, B-tim, O, O, O, O, O, B-geo, O, O, O, O...</td>\n",
              "    </tr>\n",
              "    <tr>\n",
              "      <th>Sentence: 1000</th>\n",
              "      <td>[They, left, after, a, tense, hour-long, stand...</td>\n",
              "      <td>[PRP, VBD, IN, DT, NN, JJ, NN, IN, NN, NNS, .]</td>\n",
              "      <td>[O, O, O, O, O, O, O, O, O, O, O]</td>\n",
              "    </tr>\n",
              "  </tbody>\n",
              "</table>\n",
              "</div>\n",
              "    <div class=\"colab-df-buttons\">\n",
              "\n",
              "  <div class=\"colab-df-container\">\n",
              "    <button class=\"colab-df-convert\" onclick=\"convertToInteractive('df-0e2b999b-1093-4669-a429-d56f78d5c697')\"\n",
              "            title=\"Convert this dataframe to an interactive table.\"\n",
              "            style=\"display:none;\">\n",
              "\n",
              "  <svg xmlns=\"http://www.w3.org/2000/svg\" height=\"24px\" viewBox=\"0 -960 960 960\">\n",
              "    <path d=\"M120-120v-720h720v720H120Zm60-500h600v-160H180v160Zm220 220h160v-160H400v160Zm0 220h160v-160H400v160ZM180-400h160v-160H180v160Zm440 0h160v-160H620v160ZM180-180h160v-160H180v160Zm440 0h160v-160H620v160Z\"/>\n",
              "  </svg>\n",
              "    </button>\n",
              "\n",
              "  <style>\n",
              "    .colab-df-container {\n",
              "      display:flex;\n",
              "      gap: 12px;\n",
              "    }\n",
              "\n",
              "    .colab-df-convert {\n",
              "      background-color: #E8F0FE;\n",
              "      border: none;\n",
              "      border-radius: 50%;\n",
              "      cursor: pointer;\n",
              "      display: none;\n",
              "      fill: #1967D2;\n",
              "      height: 32px;\n",
              "      padding: 0 0 0 0;\n",
              "      width: 32px;\n",
              "    }\n",
              "\n",
              "    .colab-df-convert:hover {\n",
              "      background-color: #E2EBFA;\n",
              "      box-shadow: 0px 1px 2px rgba(60, 64, 67, 0.3), 0px 1px 3px 1px rgba(60, 64, 67, 0.15);\n",
              "      fill: #174EA6;\n",
              "    }\n",
              "\n",
              "    .colab-df-buttons div {\n",
              "      margin-bottom: 4px;\n",
              "    }\n",
              "\n",
              "    [theme=dark] .colab-df-convert {\n",
              "      background-color: #3B4455;\n",
              "      fill: #D2E3FC;\n",
              "    }\n",
              "\n",
              "    [theme=dark] .colab-df-convert:hover {\n",
              "      background-color: #434B5C;\n",
              "      box-shadow: 0px 1px 3px 1px rgba(0, 0, 0, 0.15);\n",
              "      filter: drop-shadow(0px 1px 2px rgba(0, 0, 0, 0.3));\n",
              "      fill: #FFFFFF;\n",
              "    }\n",
              "  </style>\n",
              "\n",
              "    <script>\n",
              "      const buttonEl =\n",
              "        document.querySelector('#df-0e2b999b-1093-4669-a429-d56f78d5c697 button.colab-df-convert');\n",
              "      buttonEl.style.display =\n",
              "        google.colab.kernel.accessAllowed ? 'block' : 'none';\n",
              "\n",
              "      async function convertToInteractive(key) {\n",
              "        const element = document.querySelector('#df-0e2b999b-1093-4669-a429-d56f78d5c697');\n",
              "        const dataTable =\n",
              "          await google.colab.kernel.invokeFunction('convertToInteractive',\n",
              "                                                    [key], {});\n",
              "        if (!dataTable) return;\n",
              "\n",
              "        const docLinkHtml = 'Like what you see? Visit the ' +\n",
              "          '<a target=\"_blank\" href=https://colab.research.google.com/notebooks/data_table.ipynb>data table notebook</a>'\n",
              "          + ' to learn more about interactive tables.';\n",
              "        element.innerHTML = '';\n",
              "        dataTable['output_type'] = 'display_data';\n",
              "        await google.colab.output.renderOutput(dataTable, element);\n",
              "        const docLink = document.createElement('div');\n",
              "        docLink.innerHTML = docLinkHtml;\n",
              "        element.appendChild(docLink);\n",
              "      }\n",
              "    </script>\n",
              "  </div>\n",
              "\n",
              "\n",
              "    <div id=\"df-e87c7d33-3188-4cd3-b67e-e06e91dfcb98\">\n",
              "      <button class=\"colab-df-quickchart\" onclick=\"quickchart('df-e87c7d33-3188-4cd3-b67e-e06e91dfcb98')\"\n",
              "                title=\"Suggest charts\"\n",
              "                style=\"display:none;\">\n",
              "\n",
              "<svg xmlns=\"http://www.w3.org/2000/svg\" height=\"24px\"viewBox=\"0 0 24 24\"\n",
              "     width=\"24px\">\n",
              "    <g>\n",
              "        <path d=\"M19 3H5c-1.1 0-2 .9-2 2v14c0 1.1.9 2 2 2h14c1.1 0 2-.9 2-2V5c0-1.1-.9-2-2-2zM9 17H7v-7h2v7zm4 0h-2V7h2v10zm4 0h-2v-4h2v4z\"/>\n",
              "    </g>\n",
              "</svg>\n",
              "      </button>\n",
              "\n",
              "<style>\n",
              "  .colab-df-quickchart {\n",
              "      --bg-color: #E8F0FE;\n",
              "      --fill-color: #1967D2;\n",
              "      --hover-bg-color: #E2EBFA;\n",
              "      --hover-fill-color: #174EA6;\n",
              "      --disabled-fill-color: #AAA;\n",
              "      --disabled-bg-color: #DDD;\n",
              "  }\n",
              "\n",
              "  [theme=dark] .colab-df-quickchart {\n",
              "      --bg-color: #3B4455;\n",
              "      --fill-color: #D2E3FC;\n",
              "      --hover-bg-color: #434B5C;\n",
              "      --hover-fill-color: #FFFFFF;\n",
              "      --disabled-bg-color: #3B4455;\n",
              "      --disabled-fill-color: #666;\n",
              "  }\n",
              "\n",
              "  .colab-df-quickchart {\n",
              "    background-color: var(--bg-color);\n",
              "    border: none;\n",
              "    border-radius: 50%;\n",
              "    cursor: pointer;\n",
              "    display: none;\n",
              "    fill: var(--fill-color);\n",
              "    height: 32px;\n",
              "    padding: 0;\n",
              "    width: 32px;\n",
              "  }\n",
              "\n",
              "  .colab-df-quickchart:hover {\n",
              "    background-color: var(--hover-bg-color);\n",
              "    box-shadow: 0 1px 2px rgba(60, 64, 67, 0.3), 0 1px 3px 1px rgba(60, 64, 67, 0.15);\n",
              "    fill: var(--button-hover-fill-color);\n",
              "  }\n",
              "\n",
              "  .colab-df-quickchart-complete:disabled,\n",
              "  .colab-df-quickchart-complete:disabled:hover {\n",
              "    background-color: var(--disabled-bg-color);\n",
              "    fill: var(--disabled-fill-color);\n",
              "    box-shadow: none;\n",
              "  }\n",
              "\n",
              "  .colab-df-spinner {\n",
              "    border: 2px solid var(--fill-color);\n",
              "    border-color: transparent;\n",
              "    border-bottom-color: var(--fill-color);\n",
              "    animation:\n",
              "      spin 1s steps(1) infinite;\n",
              "  }\n",
              "\n",
              "  @keyframes spin {\n",
              "    0% {\n",
              "      border-color: transparent;\n",
              "      border-bottom-color: var(--fill-color);\n",
              "      border-left-color: var(--fill-color);\n",
              "    }\n",
              "    20% {\n",
              "      border-color: transparent;\n",
              "      border-left-color: var(--fill-color);\n",
              "      border-top-color: var(--fill-color);\n",
              "    }\n",
              "    30% {\n",
              "      border-color: transparent;\n",
              "      border-left-color: var(--fill-color);\n",
              "      border-top-color: var(--fill-color);\n",
              "      border-right-color: var(--fill-color);\n",
              "    }\n",
              "    40% {\n",
              "      border-color: transparent;\n",
              "      border-right-color: var(--fill-color);\n",
              "      border-top-color: var(--fill-color);\n",
              "    }\n",
              "    60% {\n",
              "      border-color: transparent;\n",
              "      border-right-color: var(--fill-color);\n",
              "    }\n",
              "    80% {\n",
              "      border-color: transparent;\n",
              "      border-right-color: var(--fill-color);\n",
              "      border-bottom-color: var(--fill-color);\n",
              "    }\n",
              "    90% {\n",
              "      border-color: transparent;\n",
              "      border-bottom-color: var(--fill-color);\n",
              "    }\n",
              "  }\n",
              "</style>\n",
              "\n",
              "      <script>\n",
              "        async function quickchart(key) {\n",
              "          const quickchartButtonEl =\n",
              "            document.querySelector('#' + key + ' button');\n",
              "          quickchartButtonEl.disabled = true;  // To prevent multiple clicks.\n",
              "          quickchartButtonEl.classList.add('colab-df-spinner');\n",
              "          try {\n",
              "            const charts = await google.colab.kernel.invokeFunction(\n",
              "                'suggestCharts', [key], {});\n",
              "          } catch (error) {\n",
              "            console.error('Error during call to suggestCharts:', error);\n",
              "          }\n",
              "          quickchartButtonEl.classList.remove('colab-df-spinner');\n",
              "          quickchartButtonEl.classList.add('colab-df-quickchart-complete');\n",
              "        }\n",
              "        (() => {\n",
              "          let quickchartButtonEl =\n",
              "            document.querySelector('#df-e87c7d33-3188-4cd3-b67e-e06e91dfcb98 button');\n",
              "          quickchartButtonEl.style.display =\n",
              "            google.colab.kernel.accessAllowed ? 'block' : 'none';\n",
              "        })();\n",
              "      </script>\n",
              "    </div>\n",
              "\n",
              "    </div>\n",
              "  </div>\n"
            ],
            "application/vnd.google.colaboratory.intrinsic+json": {
              "type": "dataframe",
              "summary": "{\n  \"name\": \"grouped[:4]\",\n  \"rows\": 4,\n  \"fields\": [\n    {\n      \"column\": \"Sentence #\",\n      \"properties\": {\n        \"dtype\": \"string\",\n        \"num_unique_values\": 4,\n        \"samples\": [\n          \"Sentence: 10\",\n          \"Sentence: 1000\",\n          \"Sentence: 1\"\n        ],\n        \"semantic_type\": \"\",\n        \"description\": \"\"\n      }\n    },\n    {\n      \"column\": \"Word\",\n      \"properties\": {\n        \"dtype\": \"object\",\n        \"semantic_type\": \"\",\n        \"description\": \"\"\n      }\n    },\n    {\n      \"column\": \"POS\",\n      \"properties\": {\n        \"dtype\": \"object\",\n        \"semantic_type\": \"\",\n        \"description\": \"\"\n      }\n    },\n    {\n      \"column\": \"Tag\",\n      \"properties\": {\n        \"dtype\": \"object\",\n        \"semantic_type\": \"\",\n        \"description\": \"\"\n      }\n    }\n  ]\n}"
            }
          },
          "metadata": {},
          "execution_count": 13
        }
      ]
    },
    {
      "cell_type": "code",
      "source": [
        "sentences[:4]"
      ],
      "metadata": {
        "colab": {
          "base_uri": "https://localhost:8080/"
        },
        "id": "MkAwI3qRFPcC",
        "outputId": "bbd67a4c-11e4-4047-917c-4a06d175d33d"
      },
      "execution_count": 14,
      "outputs": [
        {
          "output_type": "execute_result",
          "data": {
            "text/plain": [
              "[['Thousands',\n",
              "  'of',\n",
              "  'demonstrators',\n",
              "  'have',\n",
              "  'marched',\n",
              "  'through',\n",
              "  'London',\n",
              "  'to',\n",
              "  'protest',\n",
              "  'the',\n",
              "  'war',\n",
              "  'in',\n",
              "  'Iraq',\n",
              "  'and',\n",
              "  'demand',\n",
              "  'the',\n",
              "  'withdrawal',\n",
              "  'of',\n",
              "  'British',\n",
              "  'troops',\n",
              "  'from',\n",
              "  'that',\n",
              "  'country',\n",
              "  '.'],\n",
              " ['Iranian',\n",
              "  'officials',\n",
              "  'say',\n",
              "  'they',\n",
              "  'expect',\n",
              "  'to',\n",
              "  'get',\n",
              "  'access',\n",
              "  'to',\n",
              "  'sealed',\n",
              "  'sensitive',\n",
              "  'parts',\n",
              "  'of',\n",
              "  'the',\n",
              "  'plant',\n",
              "  'Wednesday',\n",
              "  ',',\n",
              "  'after',\n",
              "  'an',\n",
              "  'IAEA',\n",
              "  'surveillance',\n",
              "  'system',\n",
              "  'begins',\n",
              "  'functioning',\n",
              "  '.'],\n",
              " ['Helicopter',\n",
              "  'gunships',\n",
              "  'Saturday',\n",
              "  'pounded',\n",
              "  'militant',\n",
              "  'hideouts',\n",
              "  'in',\n",
              "  'the',\n",
              "  'Orakzai',\n",
              "  'tribal',\n",
              "  'region',\n",
              "  ',',\n",
              "  'where',\n",
              "  'many',\n",
              "  'Taliban',\n",
              "  'militants',\n",
              "  'are',\n",
              "  'believed',\n",
              "  'to',\n",
              "  'have',\n",
              "  'fled',\n",
              "  'to',\n",
              "  'avoid',\n",
              "  'an',\n",
              "  'earlier',\n",
              "  'military',\n",
              "  'offensive',\n",
              "  'in',\n",
              "  'nearby',\n",
              "  'South',\n",
              "  'Waziristan',\n",
              "  '.'],\n",
              " ['They',\n",
              "  'left',\n",
              "  'after',\n",
              "  'a',\n",
              "  'tense',\n",
              "  'hour-long',\n",
              "  'standoff',\n",
              "  'with',\n",
              "  'riot',\n",
              "  'police',\n",
              "  '.']]"
            ]
          },
          "metadata": {},
          "execution_count": 14
        }
      ]
    },
    {
      "cell_type": "code",
      "source": [
        "ner_tags[:4]"
      ],
      "metadata": {
        "colab": {
          "base_uri": "https://localhost:8080/"
        },
        "id": "7G37wuwmFEOE",
        "outputId": "acc0f571-95a8-42e2-cdd9-fe13940b476e"
      },
      "execution_count": 15,
      "outputs": [
        {
          "output_type": "execute_result",
          "data": {
            "text/plain": [
              "[['O',\n",
              "  'O',\n",
              "  'O',\n",
              "  'O',\n",
              "  'O',\n",
              "  'O',\n",
              "  'B-geo',\n",
              "  'O',\n",
              "  'O',\n",
              "  'O',\n",
              "  'O',\n",
              "  'O',\n",
              "  'B-geo',\n",
              "  'O',\n",
              "  'O',\n",
              "  'O',\n",
              "  'O',\n",
              "  'O',\n",
              "  'B-gpe',\n",
              "  'O',\n",
              "  'O',\n",
              "  'O',\n",
              "  'O',\n",
              "  'O'],\n",
              " ['B-gpe',\n",
              "  'O',\n",
              "  'O',\n",
              "  'O',\n",
              "  'O',\n",
              "  'O',\n",
              "  'O',\n",
              "  'O',\n",
              "  'O',\n",
              "  'O',\n",
              "  'O',\n",
              "  'O',\n",
              "  'O',\n",
              "  'O',\n",
              "  'O',\n",
              "  'B-tim',\n",
              "  'O',\n",
              "  'O',\n",
              "  'O',\n",
              "  'B-org',\n",
              "  'O',\n",
              "  'O',\n",
              "  'O',\n",
              "  'O',\n",
              "  'O'],\n",
              " ['O',\n",
              "  'O',\n",
              "  'B-tim',\n",
              "  'O',\n",
              "  'O',\n",
              "  'O',\n",
              "  'O',\n",
              "  'O',\n",
              "  'B-geo',\n",
              "  'O',\n",
              "  'O',\n",
              "  'O',\n",
              "  'O',\n",
              "  'O',\n",
              "  'B-org',\n",
              "  'O',\n",
              "  'O',\n",
              "  'O',\n",
              "  'O',\n",
              "  'O',\n",
              "  'O',\n",
              "  'O',\n",
              "  'O',\n",
              "  'O',\n",
              "  'O',\n",
              "  'O',\n",
              "  'O',\n",
              "  'O',\n",
              "  'O',\n",
              "  'B-geo',\n",
              "  'I-geo',\n",
              "  'O'],\n",
              " ['O', 'O', 'O', 'O', 'O', 'O', 'O', 'O', 'O', 'O', 'O']]"
            ]
          },
          "metadata": {},
          "execution_count": 15
        }
      ]
    },
    {
      "cell_type": "markdown",
      "source": [
        "## Label encoding"
      ],
      "metadata": {
        "id": "qrbNPi7-EwZ8"
      }
    },
    {
      "cell_type": "code",
      "source": [
        "label_encoder = LabelEncoder()\n",
        "flat_tags = [tag for sublist in ner_tags for tag in sublist]\n",
        "label_encoder.fit(flat_tags)\n",
        "encoded_tags = [label_encoder.transform(tags).tolist() for tags in ner_tags]\n",
        "label_list = label_encoder.classes_.tolist()\n",
        "num_classes = len(label_list)"
      ],
      "metadata": {
        "id": "Vkg_iXHMEyuK"
      },
      "execution_count": 16,
      "outputs": []
    },
    {
      "cell_type": "code",
      "source": [
        "num_classes"
      ],
      "metadata": {
        "colab": {
          "base_uri": "https://localhost:8080/"
        },
        "id": "L8ZSm7ripdJX",
        "outputId": "7a93ee16-4a0d-43e9-c288-af14743fd1fe"
      },
      "execution_count": 17,
      "outputs": [
        {
          "output_type": "execute_result",
          "data": {
            "text/plain": [
              "17"
            ]
          },
          "metadata": {},
          "execution_count": 17
        }
      ]
    },
    {
      "cell_type": "code",
      "source": [
        "label_list"
      ],
      "metadata": {
        "colab": {
          "base_uri": "https://localhost:8080/"
        },
        "id": "9OG4dtmtE6aT",
        "outputId": "3b8e134d-82c0-44b1-c2ef-ee6495e2d045"
      },
      "execution_count": 18,
      "outputs": [
        {
          "output_type": "execute_result",
          "data": {
            "text/plain": [
              "['B-art',\n",
              " 'B-eve',\n",
              " 'B-geo',\n",
              " 'B-gpe',\n",
              " 'B-nat',\n",
              " 'B-org',\n",
              " 'B-per',\n",
              " 'B-tim',\n",
              " 'I-art',\n",
              " 'I-eve',\n",
              " 'I-geo',\n",
              " 'I-gpe',\n",
              " 'I-nat',\n",
              " 'I-org',\n",
              " 'I-per',\n",
              " 'I-tim',\n",
              " 'O']"
            ]
          },
          "metadata": {},
          "execution_count": 18
        }
      ]
    },
    {
      "cell_type": "code",
      "source": [
        "encoded_tags[:4]"
      ],
      "metadata": {
        "colab": {
          "base_uri": "https://localhost:8080/"
        },
        "id": "0QLnDR61FZwg",
        "outputId": "ef0cca80-89da-4556-ed7a-846ef03c9056"
      },
      "execution_count": 19,
      "outputs": [
        {
          "output_type": "execute_result",
          "data": {
            "text/plain": [
              "[[16,\n",
              "  16,\n",
              "  16,\n",
              "  16,\n",
              "  16,\n",
              "  16,\n",
              "  2,\n",
              "  16,\n",
              "  16,\n",
              "  16,\n",
              "  16,\n",
              "  16,\n",
              "  2,\n",
              "  16,\n",
              "  16,\n",
              "  16,\n",
              "  16,\n",
              "  16,\n",
              "  3,\n",
              "  16,\n",
              "  16,\n",
              "  16,\n",
              "  16,\n",
              "  16],\n",
              " [3,\n",
              "  16,\n",
              "  16,\n",
              "  16,\n",
              "  16,\n",
              "  16,\n",
              "  16,\n",
              "  16,\n",
              "  16,\n",
              "  16,\n",
              "  16,\n",
              "  16,\n",
              "  16,\n",
              "  16,\n",
              "  16,\n",
              "  7,\n",
              "  16,\n",
              "  16,\n",
              "  16,\n",
              "  5,\n",
              "  16,\n",
              "  16,\n",
              "  16,\n",
              "  16,\n",
              "  16],\n",
              " [16,\n",
              "  16,\n",
              "  7,\n",
              "  16,\n",
              "  16,\n",
              "  16,\n",
              "  16,\n",
              "  16,\n",
              "  2,\n",
              "  16,\n",
              "  16,\n",
              "  16,\n",
              "  16,\n",
              "  16,\n",
              "  5,\n",
              "  16,\n",
              "  16,\n",
              "  16,\n",
              "  16,\n",
              "  16,\n",
              "  16,\n",
              "  16,\n",
              "  16,\n",
              "  16,\n",
              "  16,\n",
              "  16,\n",
              "  16,\n",
              "  16,\n",
              "  16,\n",
              "  2,\n",
              "  10,\n",
              "  16],\n",
              " [16, 16, 16, 16, 16, 16, 16, 16, 16, 16, 16]]"
            ]
          },
          "metadata": {},
          "execution_count": 19
        }
      ]
    },
    {
      "cell_type": "markdown",
      "source": [
        "# Create Dataset"
      ],
      "metadata": {
        "id": "zvlrsGJQFktj"
      }
    },
    {
      "cell_type": "code",
      "source": [
        "print(f\"tokens: {sentences[0]}\")\n",
        "print(f\"tag encoded: {encoded_tags[0]}\")"
      ],
      "metadata": {
        "colab": {
          "base_uri": "https://localhost:8080/"
        },
        "id": "_5ZdTQG2JUI8",
        "outputId": "6a89231c-e737-4f94-a3c8-4b14bb3d050e"
      },
      "execution_count": 20,
      "outputs": [
        {
          "output_type": "stream",
          "name": "stdout",
          "text": [
            "tokens: ['Thousands', 'of', 'demonstrators', 'have', 'marched', 'through', 'London', 'to', 'protest', 'the', 'war', 'in', 'Iraq', 'and', 'demand', 'the', 'withdrawal', 'of', 'British', 'troops', 'from', 'that', 'country', '.']\n",
            "tag encoded: [16, 16, 16, 16, 16, 16, 2, 16, 16, 16, 16, 16, 2, 16, 16, 16, 16, 16, 3, 16, 16, 16, 16, 16]\n"
          ]
        }
      ]
    },
    {
      "cell_type": "code",
      "source": [
        "data_dicts = [{\"tokens\": tokens, \"ner_tags\": tags} for tokens, tags in zip(sentences, encoded_tags)]\n",
        "\n",
        "features = Features({\n",
        "    'tokens': Sequence(Value(dtype='string')),\n",
        "    'ner_tags': Sequence(Value(dtype='int64'))\n",
        "})\n",
        "\n",
        "dataset = Dataset.from_list(data_dicts, features=features)"
      ],
      "metadata": {
        "id": "ELyNdT9MFnCZ"
      },
      "execution_count": 21,
      "outputs": []
    },
    {
      "cell_type": "code",
      "source": [
        "train_idx = int(len(dataset)*0.8)\n",
        "train_dataset = dataset.select(range(0, train_idx))\n",
        "test_dataset = dataset.select(range(train_idx, len(dataset)))"
      ],
      "metadata": {
        "id": "JMm8gRqBPPRJ"
      },
      "execution_count": 22,
      "outputs": []
    },
    {
      "cell_type": "code",
      "source": [
        "dataset"
      ],
      "metadata": {
        "colab": {
          "base_uri": "https://localhost:8080/"
        },
        "id": "N8xoId2lLKaM",
        "outputId": "acdae378-4b9f-4bfe-91df-c6c5014c3f85"
      },
      "execution_count": 23,
      "outputs": [
        {
          "output_type": "execute_result",
          "data": {
            "text/plain": [
              "Dataset({\n",
              "    features: ['tokens', 'ner_tags'],\n",
              "    num_rows: 4795\n",
              "})"
            ]
          },
          "metadata": {},
          "execution_count": 23
        }
      ]
    },
    {
      "cell_type": "code",
      "source": [
        "train_dataset"
      ],
      "metadata": {
        "colab": {
          "base_uri": "https://localhost:8080/"
        },
        "id": "DzDJfBl-RKsc",
        "outputId": "7d1443c2-0831-41ec-c3f3-674fe3ee0474"
      },
      "execution_count": 24,
      "outputs": [
        {
          "output_type": "execute_result",
          "data": {
            "text/plain": [
              "Dataset({\n",
              "    features: ['tokens', 'ner_tags'],\n",
              "    num_rows: 3836\n",
              "})"
            ]
          },
          "metadata": {},
          "execution_count": 24
        }
      ]
    },
    {
      "cell_type": "code",
      "source": [
        "test_dataset"
      ],
      "metadata": {
        "colab": {
          "base_uri": "https://localhost:8080/"
        },
        "id": "uyDjTDJERMNA",
        "outputId": "e05a78b6-dcf6-4bdd-b125-06cf6871f726"
      },
      "execution_count": 25,
      "outputs": [
        {
          "output_type": "execute_result",
          "data": {
            "text/plain": [
              "Dataset({\n",
              "    features: ['tokens', 'ner_tags'],\n",
              "    num_rows: 959\n",
              "})"
            ]
          },
          "metadata": {},
          "execution_count": 25
        }
      ]
    },
    {
      "cell_type": "code",
      "source": [
        "data_dicts[0]"
      ],
      "metadata": {
        "colab": {
          "base_uri": "https://localhost:8080/"
        },
        "id": "hWxfuF3CQBKx",
        "outputId": "b9e1fd44-e03a-4638-c223-a47f4bf25c4a"
      },
      "execution_count": 26,
      "outputs": [
        {
          "output_type": "execute_result",
          "data": {
            "text/plain": [
              "{'tokens': ['Thousands',\n",
              "  'of',\n",
              "  'demonstrators',\n",
              "  'have',\n",
              "  'marched',\n",
              "  'through',\n",
              "  'London',\n",
              "  'to',\n",
              "  'protest',\n",
              "  'the',\n",
              "  'war',\n",
              "  'in',\n",
              "  'Iraq',\n",
              "  'and',\n",
              "  'demand',\n",
              "  'the',\n",
              "  'withdrawal',\n",
              "  'of',\n",
              "  'British',\n",
              "  'troops',\n",
              "  'from',\n",
              "  'that',\n",
              "  'country',\n",
              "  '.'],\n",
              " 'ner_tags': [16,\n",
              "  16,\n",
              "  16,\n",
              "  16,\n",
              "  16,\n",
              "  16,\n",
              "  2,\n",
              "  16,\n",
              "  16,\n",
              "  16,\n",
              "  16,\n",
              "  16,\n",
              "  2,\n",
              "  16,\n",
              "  16,\n",
              "  16,\n",
              "  16,\n",
              "  16,\n",
              "  3,\n",
              "  16,\n",
              "  16,\n",
              "  16,\n",
              "  16,\n",
              "  16]}"
            ]
          },
          "metadata": {},
          "execution_count": 26
        }
      ]
    },
    {
      "cell_type": "markdown",
      "source": [
        "## Tokenize"
      ],
      "metadata": {
        "id": "r3qkKEFVNTwI"
      }
    },
    {
      "cell_type": "code",
      "source": [
        "tokenizer = BertTokenizerFast.from_pretrained('bert-base-uncased')"
      ],
      "metadata": {
        "id": "vYCrnEJmBa_R",
        "colab": {
          "base_uri": "https://localhost:8080/",
          "height": 274,
          "referenced_widgets": [
            "5ea04fb0fbc047e29021fb1a72900139",
            "66603719518a4cf49283bf4dbc902704",
            "f3fac6cab57848a092bcc80a6842a018",
            "41d9ede76d62450d80f1e795b982f5c0",
            "ea6d9c16a8c241238fb5a3d536b1efbf",
            "a70d9ed14fb44358badb59b25c7c29cb",
            "584c091595544d9eba9d6796c355f7d1",
            "518a7118261949a0acbd8fe054dee4d9",
            "859f54e17c404633becd75c49f8e9e7e",
            "239d0fa6b57b4890b0d05df93640c20d",
            "43b16ebec0cf4655b19fc86576b49091",
            "fa801ed89d42441ab3369c2de8a83e79",
            "9d98bab9f85746b48140b4416430a8c5",
            "221e9cb58b1d4ee9940732a4cb84b1cc",
            "fd80b8cf62334545a20c39feb9d0e106",
            "4e53fec3e42f4f7baed6adf5518726ed",
            "71534a22cf6e4fb89c861ac4db161713",
            "1ed419573c274e2fab8ef484a2e460d7",
            "cc392c8667d841a88bb9f0d614e75b10",
            "ed1cbd15109f49ab8e54e0baecb568db",
            "22b3d1685b5240aebaa4c536aa336aaf",
            "e9c5e47d4b6948d782c0b7a4a4ec4083",
            "d3449b7db9ff40f79f35de5249370287",
            "7ed602bf22f54dffbc8491ec497a4fe4",
            "a99c1368bfb24ce5a34f97bd2e1b2866",
            "1a6467e60d8c4d209139c980c58732d7",
            "f926c7c6af9c47018a4ef4972486dcb5",
            "ffb1ff5c86b145fea5c0987d7fd1dc76",
            "eb1fbc60b80a4d168265ca033da1fd57",
            "1324b1cfb9b14a6f9fb70bc9453ce29b",
            "85cfd3f73e2c47ca9202eb523f21a049",
            "f8d5b9f9a11f42268140209411188789",
            "62f02c9b1b82499cb42b61f9124a1058",
            "109b6d661b964a1b9345a6f4dece5967",
            "a958ca90cfbe4f35ae0adb89aab72f8f",
            "570f86d5d7ba4c819b10e2eb37a80971",
            "e04f532613dc45d68da78f12b339d1d5",
            "0d710d084c1b476b82352a9fc4c13d2f",
            "4b94b48bd21d45cf9614a21e2aaffc46",
            "15db3bc3b2c0477da69e810b6aacd8ce",
            "c679a7c769e34b97a89ea4c3f5718322",
            "4f0f1a6d0dbe4b439de413f9793af006",
            "1d59f32d22994f5da0e326681eb8357a",
            "5a6a1bf4d5b74007a22340141c109587"
          ]
        },
        "outputId": "b2d043b5-2896-4393-f51e-7b529b2c0de1"
      },
      "execution_count": 27,
      "outputs": [
        {
          "output_type": "stream",
          "name": "stderr",
          "text": [
            "/usr/local/lib/python3.11/dist-packages/huggingface_hub/utils/_auth.py:94: UserWarning: \n",
            "The secret `HF_TOKEN` does not exist in your Colab secrets.\n",
            "To authenticate with the Hugging Face Hub, create a token in your settings tab (https://huggingface.co/settings/tokens), set it as secret in your Google Colab and restart your session.\n",
            "You will be able to reuse this secret in all of your notebooks.\n",
            "Please note that authentication is recommended but still optional to access public models or datasets.\n",
            "  warnings.warn(\n"
          ]
        },
        {
          "output_type": "display_data",
          "data": {
            "text/plain": [
              "tokenizer_config.json:   0%|          | 0.00/48.0 [00:00<?, ?B/s]"
            ],
            "application/vnd.jupyter.widget-view+json": {
              "version_major": 2,
              "version_minor": 0,
              "model_id": "5ea04fb0fbc047e29021fb1a72900139"
            }
          },
          "metadata": {}
        },
        {
          "output_type": "display_data",
          "data": {
            "text/plain": [
              "vocab.txt:   0%|          | 0.00/232k [00:00<?, ?B/s]"
            ],
            "application/vnd.jupyter.widget-view+json": {
              "version_major": 2,
              "version_minor": 0,
              "model_id": "fa801ed89d42441ab3369c2de8a83e79"
            }
          },
          "metadata": {}
        },
        {
          "output_type": "display_data",
          "data": {
            "text/plain": [
              "tokenizer.json:   0%|          | 0.00/466k [00:00<?, ?B/s]"
            ],
            "application/vnd.jupyter.widget-view+json": {
              "version_major": 2,
              "version_minor": 0,
              "model_id": "d3449b7db9ff40f79f35de5249370287"
            }
          },
          "metadata": {}
        },
        {
          "output_type": "display_data",
          "data": {
            "text/plain": [
              "config.json:   0%|          | 0.00/570 [00:00<?, ?B/s]"
            ],
            "application/vnd.jupyter.widget-view+json": {
              "version_major": 2,
              "version_minor": 0,
              "model_id": "109b6d661b964a1b9345a6f4dece5967"
            }
          },
          "metadata": {}
        }
      ]
    },
    {
      "cell_type": "code",
      "source": [
        "def encode(example):\n",
        "    tokens = example[\"tokens\"]\n",
        "    encoding = tokenizer(tokens, is_split_into_words=True, truncation=True, padding=\"max_length\", max_length=128)\n",
        "    word_ids = encoding.word_ids()\n",
        "    labels = []\n",
        "    previous_word_idx = None\n",
        "    for word_idx in word_ids:\n",
        "        if word_idx is None:\n",
        "            labels.append(0)\n",
        "        elif word_idx != previous_word_idx:\n",
        "            labels.append(example['ner_tags'][word_idx])\n",
        "        else:\n",
        "            labels.append(example['ner_tags'][word_idx])\n",
        "        previous_word_idx = word_idx\n",
        "    encoding[\"labels\"] = labels\n",
        "    return encoding\n"
      ],
      "metadata": {
        "id": "M1iTbPocD-0R"
      },
      "execution_count": 28,
      "outputs": []
    },
    {
      "cell_type": "code",
      "source": [
        "def generate_batch(dataset, tokenizer, batch_size=32):\n",
        "    encoded = dataset.map(encode)\n",
        "\n",
        "    def gen():\n",
        "        for example in encoded:\n",
        "            input_ids = np.array(example[\"input_ids\"], dtype=np.int64)\n",
        "            attention_mask = np.array(example[\"attention_mask\"], dtype=np.int64)\n",
        "            labels = np.array(example[\"labels\"], dtype=np.int64)\n",
        "\n",
        "            yield (\n",
        "                {\n",
        "                    \"input_ids\": input_ids,\n",
        "                    \"attention_mask\": attention_mask,\n",
        "                },\n",
        "                labels\n",
        "            )\n",
        "\n",
        "    return tf.data.Dataset.from_generator(\n",
        "        gen,\n",
        "        output_signature=(\n",
        "            {\n",
        "                \"input_ids\": tf.TensorSpec(shape=(128,), dtype=tf.int64),\n",
        "                \"attention_mask\": tf.TensorSpec(shape=(128,), dtype=tf.int64),\n",
        "            },\n",
        "            tf.TensorSpec(shape=(128,), dtype=tf.int64)\n",
        "        )\n",
        "    ).repeat().batch(batch_size).prefetch(tf.data.AUTOTUNE)"
      ],
      "metadata": {
        "id": "IbvcXux6Svqf"
      },
      "execution_count": 29,
      "outputs": []
    },
    {
      "cell_type": "code",
      "source": [
        "train_dataset"
      ],
      "metadata": {
        "colab": {
          "base_uri": "https://localhost:8080/"
        },
        "id": "nmvJQuJaKsqk",
        "outputId": "e5c29798-d413-4ada-943b-08c746b9547d"
      },
      "execution_count": 30,
      "outputs": [
        {
          "output_type": "execute_result",
          "data": {
            "text/plain": [
              "Dataset({\n",
              "    features: ['tokens', 'ner_tags'],\n",
              "    num_rows: 3836\n",
              "})"
            ]
          },
          "metadata": {},
          "execution_count": 30
        }
      ]
    },
    {
      "cell_type": "code",
      "source": [
        "train_batches = generate_batch(train_dataset, tokenizer)\n",
        "test_batches = generate_batch(test_dataset, tokenizer)"
      ],
      "metadata": {
        "colab": {
          "base_uri": "https://localhost:8080/",
          "height": 81,
          "referenced_widgets": [
            "4f725d4ddafb4a429f8749f7ca00f732",
            "a38ccf71fce6489d804c78f4ddc656da",
            "eaf0af5bd7ae428da4ec5768910cefc1",
            "2451d9ef39184daea8b4c64319312248",
            "7f0aca2d1ef74787bba86624eef1939b",
            "f22bdd094fff41008fddb860cc48d88b",
            "517314d57ec445c88aa850b6010a78cc",
            "4f5c0d3a46854194a05c5421d4cdf56c",
            "9604e82469a34df1a4ed8b0fa9e0057d",
            "40544ac8b90a472c9a118c117526db6e",
            "df58dd4021794904bb0b0870f62ab180",
            "8ef0552e32aa40e19a310f9e8ffcf01a",
            "4fe1ecb74b0d49358cae56c98b8b443a",
            "19ddf3adcc2744d1b7c41adf7309c3ba",
            "391d3da327dd46e9a99fa9dac337bcd9",
            "a59f50cbe13f4ad6897809d3462c9a91",
            "5f148717d7b345dcaeef043c0eafa054",
            "1b8a8c542a194e7a85554d7149364f10",
            "47efa693239844daa7b5448eb99f8a70",
            "a4c546cb9631484d881b4254b2ae573e",
            "af097ee7080947568bcc6d710d53ff72",
            "e83fbf1d6b4942f7afb917847df95e18"
          ]
        },
        "id": "4B8WcGOmRwbU",
        "outputId": "e47fa9c8-770c-45fa-9ca2-f147f6ed8b4b"
      },
      "execution_count": 31,
      "outputs": [
        {
          "output_type": "display_data",
          "data": {
            "text/plain": [
              "Map:   0%|          | 0/3836 [00:00<?, ? examples/s]"
            ],
            "application/vnd.jupyter.widget-view+json": {
              "version_major": 2,
              "version_minor": 0,
              "model_id": "4f725d4ddafb4a429f8749f7ca00f732"
            }
          },
          "metadata": {}
        },
        {
          "output_type": "display_data",
          "data": {
            "text/plain": [
              "Map:   0%|          | 0/959 [00:00<?, ? examples/s]"
            ],
            "application/vnd.jupyter.widget-view+json": {
              "version_major": 2,
              "version_minor": 0,
              "model_id": "8ef0552e32aa40e19a310f9e8ffcf01a"
            }
          },
          "metadata": {}
        }
      ]
    },
    {
      "cell_type": "code",
      "source": [
        "train_batches"
      ],
      "metadata": {
        "colab": {
          "base_uri": "https://localhost:8080/"
        },
        "id": "M2p4JbFYRlmm",
        "outputId": "3f654f87-a5ff-49cd-9b08-b361ca610944"
      },
      "execution_count": 32,
      "outputs": [
        {
          "output_type": "execute_result",
          "data": {
            "text/plain": [
              "<_PrefetchDataset element_spec=({'input_ids': TensorSpec(shape=(None, 128), dtype=tf.int64, name=None), 'attention_mask': TensorSpec(shape=(None, 128), dtype=tf.int64, name=None)}, TensorSpec(shape=(None, 128), dtype=tf.int64, name=None))>"
            ]
          },
          "metadata": {},
          "execution_count": 32
        }
      ]
    },
    {
      "cell_type": "markdown",
      "source": [
        "## Positional Embedding"
      ],
      "metadata": {
        "id": "ucBsPzDVTgp0"
      }
    },
    {
      "cell_type": "code",
      "source": [
        "class RelativePositionalEmbedding(tf.keras.layers.Layer):\n",
        "    def __init__(self, d_model, max_len=128):\n",
        "        super().__init__()\n",
        "        self.d_model = d_model\n",
        "        self.max_len = max_len\n",
        "        self.rel_embeddings = self.add_weight(\n",
        "            shape=(2 * max_len - 1, d_model),\n",
        "            initializer='random_normal',\n",
        "            trainable=True,\n",
        "            name='rel_pos_embedding'\n",
        "        )\n",
        "\n",
        "    def call(self, x):\n",
        "        batch_size, seq_len = tf.shape(x)[0], tf.shape(x)[1]\n",
        "        pos_indices = tf.range(seq_len)\n",
        "        rel_pos_matrix = pos_indices[None, :] - pos_indices[:, None] + self.max_len - 1\n",
        "\n",
        "        rel_pos_matrix = tf.clip_by_value(rel_pos_matrix, 0, 2 * self.max_len - 2)\n",
        "\n",
        "        rel_pos_embed = tf.gather(self.rel_embeddings, rel_pos_matrix)\n",
        "        return rel_pos_embed"
      ],
      "metadata": {
        "id": "YaOKFtC3aTvQ"
      },
      "execution_count": 33,
      "outputs": []
    },
    {
      "cell_type": "markdown",
      "source": [
        "Digunakan relative positional embedding untuk mendapatkan informasi terkait posisi relatif antar token dalam sequence of token (rel_pos_embed). Pada tahapan ini, dibuat terlebih dahulu relation embedding (rel_embedding) yang berupa matrix yang memetakan posisi relatif ke vector embedding untuk posisi relatif, kemudian dibuat relational position matrix yang merupakan matrix yang berisi posisi relatif antar token. rel_pos_matrix kemudian dilakukan penambahan sehingga nilainya tidak nol (karena akan diperlakukan sebagai index untuk mendapatkan vector embedding untuk posisi relatif). Komponen ini mengeluarkan rel_pos_embed yang berisi matrix vektor relatif position antar token yang mengambil vektor dari rel_embedding berdasarkan rel_pos_matrix. rel_pos_matrix ini selanjutnya akan digunakan dalam mekanisme attention sebagai penambah bias hasil dot product antara vector q dan k dalam mekanisme attention"
      ],
      "metadata": {
        "id": "4-4zn0405Bhv"
      }
    },
    {
      "cell_type": "markdown",
      "source": [
        "## Attention"
      ],
      "metadata": {
        "id": "2Ezph2frTriz"
      }
    },
    {
      "cell_type": "code",
      "source": [
        "class RelativeGlobalSelfAttention(tf.keras.layers.Layer):\n",
        "    def __init__(self, num_heads, key_dim, dropout=0.1):\n",
        "        super().__init__()\n",
        "        self.num_heads = num_heads\n",
        "        self.key_dim = key_dim\n",
        "        self.depth = key_dim // num_heads\n",
        "\n",
        "        self.wq = tf.keras.layers.Dense(key_dim)\n",
        "        self.wk = tf.keras.layers.Dense(key_dim)\n",
        "        self.wv = tf.keras.layers.Dense(key_dim)\n",
        "        self.dense = tf.keras.layers.Dense(key_dim)\n",
        "\n",
        "        self.dropout = tf.keras.layers.Dropout(dropout)\n",
        "        self.add = tf.keras.layers.Add()\n",
        "        self.norm = tf.keras.layers.LayerNormalization()\n",
        "\n",
        "    def split_heads(self, x, batch_size):\n",
        "        x = tf.reshape(x, (batch_size, -1, self.num_heads, self.depth))\n",
        "        return tf.transpose(x, perm=[0, 2, 1, 3])\n",
        "\n",
        "    def call(self, x, mask=None, rel_pos_embed=None):\n",
        "        batch_size = tf.shape(x)[0]\n",
        "        seq_len = tf.shape(x)[1]\n",
        "\n",
        "        q = self.split_heads(self.wq(x), batch_size)\n",
        "        k = self.split_heads(self.wk(x), batch_size)\n",
        "        v = self.split_heads(self.wv(x), batch_size)\n",
        "\n",
        "        matmul_qk = tf.matmul(q, k, transpose_b=True)\n",
        "\n",
        "        if rel_pos_embed is not None:\n",
        "            rel_bias = tf.reduce_mean(rel_pos_embed, axis=-1)\n",
        "            rel_bias = tf.expand_dims(rel_bias, 0)\n",
        "            rel_bias = tf.expand_dims(rel_bias, 0)\n",
        "            rel_bias = tf.tile(rel_bias, [batch_size, self.num_heads, 1, 1])\n",
        "\n",
        "            matmul_qk += rel_bias * 0.1\n",
        "\n",
        "        dk = tf.cast(tf.shape(k)[-1], tf.float32)\n",
        "        scaled_attention_logits = matmul_qk / tf.math.sqrt(dk)\n",
        "\n",
        "        if mask is not None:\n",
        "            scaled_attention_logits += mask\n",
        "\n",
        "        attention_weights = tf.nn.softmax(scaled_attention_logits, axis=-1)\n",
        "        attention_weights = self.dropout(attention_weights)\n",
        "\n",
        "        output = tf.matmul(attention_weights, v)\n",
        "        output = tf.transpose(output, perm=[0, 2, 1, 3])\n",
        "        concat_attention = tf.reshape(output, (batch_size, -1, self.key_dim))\n",
        "\n",
        "        output = self.dense(concat_attention)\n",
        "        output = self.add([x, output])\n",
        "        output = self.norm(output)\n",
        "        return output"
      ],
      "metadata": {
        "id": "zI41aQY8alvO"
      },
      "execution_count": 34,
      "outputs": []
    },
    {
      "cell_type": "markdown",
      "source": [
        "Merupakan bagian yang melakukan mekanisme attention. imput embedded vector untuk suatu token dimasukkan 3 jaringan dense untuk mendapatkan nilai q, v, dan k. Kemudian, dilakukan dot product utuk vector q dan k (k dilakukan transpose dulu agar bisa dilakukan dot product). Kemudian, dicari nilai relative bias dari hasil relative positional embedding yang dilakukan rata-rata untuk setiap vector embedding posisi relatifnya yang kemudian dilakukan perubahan shape dari bias tersebut sehingga memiliki ukuran yang sama dengan hasil dot product q dan k. setelah itu bias tersebut ditambahkan ke hasil dot product q dan k (namun diberi bobot 0.1 agar tidak terlalu dominan). Setelah itu, dilakukan normalisasi dengan membagi akar dari depth. Setelah itu dilakukan softmax dan ditambahkan layer dropout untuk mendapatkan attention weight. Kemudian attention weight tersebut dilakukan dot product dengan nilai v. Kemudian untuk semua attention head hasilnya digabungkan (dengan concat) sehingga didapatkan vector hasil gabungan attention head. Setelah itu hasilnya dimasukkan lagi ke dense layer dan hasilnya ditambahkan dengan input x (bagian residual connection) dan dilakukan normalisasi sebelum dikembalikan menjadi output"
      ],
      "metadata": {
        "id": "578GVInQ-L1b"
      }
    },
    {
      "cell_type": "markdown",
      "source": [
        "## Feedforward"
      ],
      "metadata": {
        "id": "p8fZaGsNUAzY"
      }
    },
    {
      "cell_type": "code",
      "source": [
        "class FeedForward(tf.keras.layers.Layer):\n",
        "    def __init__(self, d_model, dff, dropout_rate=0.1):\n",
        "        super().__init__()\n",
        "        self.seq = tf.keras.Sequential([\n",
        "            tf.keras.layers.Dense(dff, activation='relu'),\n",
        "            tf.keras.layers.Dense(d_model),\n",
        "            tf.keras.layers.Dropout(dropout_rate)\n",
        "        ])\n",
        "        self.add = tf.keras.layers.Add()\n",
        "        self.norm = tf.keras.layers.LayerNormalization()\n",
        "\n",
        "    def call(self, x):\n",
        "        x = self.add([x, self.seq(x)])\n",
        "        x = self.norm(x)\n",
        "        return x"
      ],
      "metadata": {
        "id": "6XtkU_N1UCjJ"
      },
      "execution_count": 35,
      "outputs": []
    },
    {
      "cell_type": "markdown",
      "source": [
        "bagian kode ini berisi feed forward nertwork dengan kumpula dense layer dengan activation relu yag diakhiri dengan layer normalisasi di akhirnya"
      ],
      "metadata": {
        "id": "KDGQQQ3QoFWQ"
      }
    },
    {
      "cell_type": "markdown",
      "source": [
        "## Encoder"
      ],
      "metadata": {
        "id": "qU9tCylDUJXB"
      }
    },
    {
      "cell_type": "code",
      "source": [
        "class EncoderLayer(tf.keras.layers.Layer):\n",
        "    def __init__(self, d_model, num_heads, dff, dropout_rate=0.1):\n",
        "        super().__init__()\n",
        "        self.attention = RelativeGlobalSelfAttention(num_heads=num_heads, key_dim=d_model, dropout=dropout_rate)\n",
        "        self.ffn = FeedForward(d_model, dff, dropout_rate)\n",
        "\n",
        "    def call(self, x, mask, rel_pos_embed=None):\n",
        "        x = self.attention(x, mask, rel_pos_embed)\n",
        "        x = self.ffn(x)\n",
        "        return x"
      ],
      "metadata": {
        "id": "7sIRbUoLUD-X"
      },
      "execution_count": 36,
      "outputs": []
    },
    {
      "cell_type": "markdown",
      "source": [
        "Bagian kode merupakan layer encoder yang didalamnya terdapat RelativeGlobalSelfAttention dan FeedForward Network"
      ],
      "metadata": {
        "id": "LPx4vR5Koo04"
      }
    },
    {
      "cell_type": "markdown",
      "source": [
        "## Transformer"
      ],
      "metadata": {
        "id": "kcEiK16TUMrQ"
      }
    },
    {
      "cell_type": "code",
      "source": [
        "class TransformerEncoder(tf.keras.Model):\n",
        "    def __init__(self, num_layers, d_model, num_heads, dff, vocab_size, num_classes, dropout_rate=0.1):\n",
        "        super().__init__()\n",
        "        self.token_embedding = tf.keras.layers.Embedding(vocab_size, d_model, mask_zero=True)\n",
        "        self.relative_pos_embedding = RelativePositionalEmbedding(d_model)\n",
        "        self.enc_layers = [EncoderLayer(d_model, num_heads, dff, dropout_rate) for _ in range(num_layers)]\n",
        "        self.dropout = tf.keras.layers.Dropout(dropout_rate)\n",
        "        self.classifier = tf.keras.layers.Dense(num_classes)\n",
        "\n",
        "    def call(self, inputs):\n",
        "        x = inputs['input_ids']\n",
        "        print(f\"inputs: {x}\")\n",
        "        mask = tf.cast(tf.math.equal(x, 0), tf.float32)[:, tf.newaxis, tf.newaxis, :]\n",
        "        mask = (1.0 - mask) * -1e9\n",
        "\n",
        "        x = self.token_embedding(x)\n",
        "        x *= tf.math.sqrt(tf.cast(tf.shape(x)[-1], tf.float32))\n",
        "\n",
        "        rel_pos_embed = self.relative_pos_embedding(x)\n",
        "\n",
        "        x = self.dropout(x)\n",
        "        for enc_layer in self.enc_layers:\n",
        "            x = enc_layer(x, mask, rel_pos_embed)\n",
        "        return self.classifier(x)"
      ],
      "metadata": {
        "id": "RV92MwASUN6x"
      },
      "execution_count": 37,
      "outputs": []
    },
    {
      "cell_type": "markdown",
      "source": [
        "Bagian ini merupakan keseluruhan arsitektur dari transformer yang didalamnya terdapat embedding layer, relative positinal embedding, encoder layer sebanyak parameter yang ditentukan, dan diakhiri dengan dense layer yang digunakan sebagai classifier"
      ],
      "metadata": {
        "id": "dvMgcV7ho2IS"
      }
    },
    {
      "cell_type": "markdown",
      "source": [
        "## Model1"
      ],
      "metadata": {
        "id": "rrGMhSwDUS4L"
      }
    },
    {
      "cell_type": "code",
      "source": [
        "model1 = TransformerEncoder(\n",
        "    num_layers=2,\n",
        "    d_model=64,\n",
        "    num_heads=4,\n",
        "    dff=256,\n",
        "    vocab_size=len(tokenizer),\n",
        "    num_classes=num_classes,\n",
        "    dropout_rate=0.1\n",
        ")"
      ],
      "metadata": {
        "id": "mvXj4BmTUTi5"
      },
      "execution_count": 38,
      "outputs": []
    },
    {
      "cell_type": "code",
      "source": [
        "model1.compile(\n",
        "    optimizer=tf.keras.optimizers.Adam(learning_rate=1e-4),\n",
        "    loss=tf.keras.losses.SparseCategoricalCrossentropy(from_logits=True),\n",
        "    metrics=['sparse_categorical_accuracy']\n",
        ")"
      ],
      "metadata": {
        "id": "OPzO3F0plSaj"
      },
      "execution_count": 39,
      "outputs": []
    },
    {
      "cell_type": "code",
      "source": [
        "model1.fit(train_batches, validation_data=test_batches, steps_per_epoch=1000, validation_steps=100, epochs=5)"
      ],
      "metadata": {
        "colab": {
          "base_uri": "https://localhost:8080/"
        },
        "id": "Ro0Hk6jeUbUD",
        "outputId": "888eba38-1abe-491b-d74d-e9ae538a3988"
      },
      "execution_count": 40,
      "outputs": [
        {
          "output_type": "stream",
          "name": "stdout",
          "text": [
            "Epoch 1/5\n",
            "inputs: Tensor(\"data:0\", shape=(None, 128), dtype=int64)\n",
            "inputs: Tensor(\"data:0\", shape=(None, 128), dtype=int64)\n",
            "inputs: Tensor(\"data:0\", shape=(None, 128), dtype=int64)\n",
            "\u001b[1m1000/1000\u001b[0m \u001b[32m━━━━━━━━━━━━━━━━━━━━\u001b[0m\u001b[37m\u001b[0m \u001b[1m0s\u001b[0m 36ms/step - loss: 0.2440 - sparse_categorical_accuracy: 0.9458inputs: Tensor(\"data:0\", shape=(None, 128), dtype=int64)\n",
            "\u001b[1m1000/1000\u001b[0m \u001b[32m━━━━━━━━━━━━━━━━━━━━\u001b[0m\u001b[37m\u001b[0m \u001b[1m53s\u001b[0m 39ms/step - loss: 0.2439 - sparse_categorical_accuracy: 0.9458 - val_loss: 0.0877 - val_sparse_categorical_accuracy: 0.9777\n",
            "Epoch 2/5\n",
            "\u001b[1m1000/1000\u001b[0m \u001b[32m━━━━━━━━━━━━━━━━━━━━\u001b[0m\u001b[37m\u001b[0m \u001b[1m34s\u001b[0m 34ms/step - loss: 0.0620 - sparse_categorical_accuracy: 0.9816 - val_loss: 0.0902 - val_sparse_categorical_accuracy: 0.9770\n",
            "Epoch 3/5\n",
            "\u001b[1m1000/1000\u001b[0m \u001b[32m━━━━━━━━━━━━━━━━━━━━\u001b[0m\u001b[37m\u001b[0m \u001b[1m42s\u001b[0m 42ms/step - loss: 0.0554 - sparse_categorical_accuracy: 0.9822 - val_loss: 0.0928 - val_sparse_categorical_accuracy: 0.9764\n",
            "Epoch 4/5\n",
            "\u001b[1m1000/1000\u001b[0m \u001b[32m━━━━━━━━━━━━━━━━━━━━\u001b[0m\u001b[37m\u001b[0m \u001b[1m48s\u001b[0m 48ms/step - loss: 0.0536 - sparse_categorical_accuracy: 0.9823 - val_loss: 0.0912 - val_sparse_categorical_accuracy: 0.9775\n",
            "Epoch 5/5\n",
            "\u001b[1m1000/1000\u001b[0m \u001b[32m━━━━━━━━━━━━━━━━━━━━\u001b[0m\u001b[37m\u001b[0m \u001b[1m37s\u001b[0m 37ms/step - loss: 0.0527 - sparse_categorical_accuracy: 0.9823 - val_loss: 0.0937 - val_sparse_categorical_accuracy: 0.9775\n"
          ]
        },
        {
          "output_type": "execute_result",
          "data": {
            "text/plain": [
              "<keras.src.callbacks.history.History at 0x79ee94145090>"
            ]
          },
          "metadata": {},
          "execution_count": 40
        }
      ]
    },
    {
      "cell_type": "code",
      "source": [
        "test_loss1, test_accuracy1 = model1.evaluate(test_batches, steps=20, verbose=0)"
      ],
      "metadata": {
        "id": "AnnuwS95-cFH"
      },
      "execution_count": 41,
      "outputs": []
    },
    {
      "cell_type": "code",
      "source": [
        "print(f\"test loss model 1: {test_loss1}\")\n",
        "print(f\"test accuracy model 2: {test_accuracy1}\")"
      ],
      "metadata": {
        "colab": {
          "base_uri": "https://localhost:8080/"
        },
        "id": "n-aWpIih4q8o",
        "outputId": "edfa39fe-0237-4c1a-bba8-ac9d94812e6b"
      },
      "execution_count": 55,
      "outputs": [
        {
          "output_type": "stream",
          "name": "stdout",
          "text": [
            "test loss model 1: 0.09138142317533493\n",
            "test accuracy model 2: 0.9780029058456421\n"
          ]
        }
      ]
    },
    {
      "cell_type": "markdown",
      "source": [
        "## Model 2"
      ],
      "metadata": {
        "id": "QOua9mWi9TqZ"
      }
    },
    {
      "cell_type": "code",
      "source": [
        "model2 = TransformerEncoder(\n",
        "    num_layers=4,\n",
        "    d_model=128,\n",
        "    num_heads=8,\n",
        "    dff=512,\n",
        "    vocab_size=len(tokenizer),\n",
        "    num_classes=num_classes,\n",
        "    dropout_rate=0.1\n",
        ")"
      ],
      "metadata": {
        "id": "QOvzxVcm9a0r"
      },
      "execution_count": 42,
      "outputs": []
    },
    {
      "cell_type": "code",
      "source": [
        "model2.compile(\n",
        "    optimizer=tf.keras.optimizers.Adam(learning_rate=1e-4),\n",
        "    loss=tf.keras.losses.SparseCategoricalCrossentropy(from_logits=True),\n",
        "    metrics=['sparse_categorical_accuracy']\n",
        ")"
      ],
      "metadata": {
        "id": "ui3hvRtq9-TV"
      },
      "execution_count": 43,
      "outputs": []
    },
    {
      "cell_type": "code",
      "source": [
        "model2.fit(train_batches, validation_data=test_batches, steps_per_epoch=1000, validation_steps=100, epochs=5)"
      ],
      "metadata": {
        "colab": {
          "base_uri": "https://localhost:8080/"
        },
        "id": "SOXk8BLu-CwR",
        "outputId": "0395fa05-a645-49af-95b9-4bb169507002"
      },
      "execution_count": 44,
      "outputs": [
        {
          "output_type": "stream",
          "name": "stdout",
          "text": [
            "Epoch 1/5\n",
            "inputs: Tensor(\"data:0\", shape=(None, 128), dtype=int64)\n",
            "inputs: Tensor(\"data:0\", shape=(None, 128), dtype=int64)\n",
            "inputs: Tensor(\"data:0\", shape=(None, 128), dtype=int64)\n",
            "\u001b[1m1000/1000\u001b[0m \u001b[32m━━━━━━━━━━━━━━━━━━━━\u001b[0m\u001b[37m\u001b[0m \u001b[1m0s\u001b[0m 37ms/step - loss: 0.1847 - sparse_categorical_accuracy: 0.9534inputs: Tensor(\"data:0\", shape=(None, 128), dtype=int64)\n",
            "\u001b[1m1000/1000\u001b[0m \u001b[32m━━━━━━━━━━━━━━━━━━━━\u001b[0m\u001b[37m\u001b[0m \u001b[1m61s\u001b[0m 42ms/step - loss: 0.1846 - sparse_categorical_accuracy: 0.9535 - val_loss: 0.0881 - val_sparse_categorical_accuracy: 0.9772\n",
            "Epoch 2/5\n",
            "\u001b[1m1000/1000\u001b[0m \u001b[32m━━━━━━━━━━━━━━━━━━━━\u001b[0m\u001b[37m\u001b[0m \u001b[1m40s\u001b[0m 40ms/step - loss: 0.0583 - sparse_categorical_accuracy: 0.9817 - val_loss: 0.0953 - val_sparse_categorical_accuracy: 0.9759\n",
            "Epoch 3/5\n",
            "\u001b[1m1000/1000\u001b[0m \u001b[32m━━━━━━━━━━━━━━━━━━━━\u001b[0m\u001b[37m\u001b[0m \u001b[1m38s\u001b[0m 38ms/step - loss: 0.0542 - sparse_categorical_accuracy: 0.9822 - val_loss: 0.0972 - val_sparse_categorical_accuracy: 0.9761\n",
            "Epoch 4/5\n",
            "\u001b[1m1000/1000\u001b[0m \u001b[32m━━━━━━━━━━━━━━━━━━━━\u001b[0m\u001b[37m\u001b[0m \u001b[1m38s\u001b[0m 38ms/step - loss: 0.0527 - sparse_categorical_accuracy: 0.9826 - val_loss: 0.0918 - val_sparse_categorical_accuracy: 0.9771\n",
            "Epoch 5/5\n",
            "\u001b[1m1000/1000\u001b[0m \u001b[32m━━━━━━━━━━━━━━━━━━━━\u001b[0m\u001b[37m\u001b[0m \u001b[1m39s\u001b[0m 39ms/step - loss: 0.0508 - sparse_categorical_accuracy: 0.9832 - val_loss: 0.1042 - val_sparse_categorical_accuracy: 0.9759\n"
          ]
        },
        {
          "output_type": "execute_result",
          "data": {
            "text/plain": [
              "<keras.src.callbacks.history.History at 0x79ee79f08b90>"
            ]
          },
          "metadata": {},
          "execution_count": 44
        }
      ]
    },
    {
      "cell_type": "code",
      "source": [
        "test_loss2, test_accuracy2 = model2.evaluate(test_batches, steps=20, verbose=0)"
      ],
      "metadata": {
        "id": "khqqdEMd-XMj"
      },
      "execution_count": 45,
      "outputs": []
    },
    {
      "cell_type": "code",
      "source": [
        "print(f\"test loss model 2: {test_loss2}\")\n",
        "print(f\"test accuracy model 2: {test_accuracy2}\")"
      ],
      "metadata": {
        "colab": {
          "base_uri": "https://localhost:8080/"
        },
        "id": "rPU9zlZU4hk3",
        "outputId": "36fd5798-c060-4f91-da25-918b5c09136a"
      },
      "execution_count": 54,
      "outputs": [
        {
          "output_type": "stream",
          "name": "stdout",
          "text": [
            "test loss model 2: 0.10055631399154663\n",
            "test accuracy model 2: 0.9765259027481079\n"
          ]
        }
      ]
    },
    {
      "cell_type": "markdown",
      "source": [
        "## Model 3"
      ],
      "metadata": {
        "id": "QSzzBfUU9VlX"
      }
    },
    {
      "cell_type": "code",
      "source": [
        "model3 = TransformerEncoder(\n",
        "    num_layers=6,\n",
        "    d_model=256,\n",
        "    num_heads=16,\n",
        "    dff=1024,\n",
        "    vocab_size=len(tokenizer),\n",
        "    num_classes=num_classes,\n",
        "    dropout_rate=0.2\n",
        ")"
      ],
      "metadata": {
        "id": "0Cj4GZQ39lP8"
      },
      "execution_count": 46,
      "outputs": []
    },
    {
      "cell_type": "code",
      "source": [
        "model3.compile(\n",
        "    optimizer=tf.keras.optimizers.Adam(learning_rate=1e-4),\n",
        "    loss=tf.keras.losses.SparseCategoricalCrossentropy(from_logits=True),\n",
        "    metrics=['sparse_categorical_accuracy']\n",
        ")"
      ],
      "metadata": {
        "id": "Tc1GzaBZsUzP"
      },
      "execution_count": 47,
      "outputs": []
    },
    {
      "cell_type": "code",
      "source": [
        "model3.fit(train_batches, validation_data=test_batches, steps_per_epoch=1000, validation_steps=100, epochs=5)"
      ],
      "metadata": {
        "colab": {
          "base_uri": "https://localhost:8080/"
        },
        "id": "qzKBld3v-FAn",
        "outputId": "c0b496d6-4734-4e6d-dc75-909fd1c686b0"
      },
      "execution_count": 48,
      "outputs": [
        {
          "output_type": "stream",
          "name": "stdout",
          "text": [
            "Epoch 1/5\n",
            "inputs: Tensor(\"data:0\", shape=(None, 128), dtype=int64)\n",
            "inputs: Tensor(\"data:0\", shape=(None, 128), dtype=int64)\n",
            "inputs: Tensor(\"data:0\", shape=(None, 128), dtype=int64)\n",
            "\u001b[1m1000/1000\u001b[0m \u001b[32m━━━━━━━━━━━━━━━━━━━━\u001b[0m\u001b[37m\u001b[0m \u001b[1m0s\u001b[0m 70ms/step - loss: 0.2060 - sparse_categorical_accuracy: 0.9423inputs: Tensor(\"data:0\", shape=(None, 128), dtype=int64)\n",
            "\u001b[1m1000/1000\u001b[0m \u001b[32m━━━━━━━━━━━━━━━━━━━━\u001b[0m\u001b[37m\u001b[0m \u001b[1m102s\u001b[0m 75ms/step - loss: 0.2059 - sparse_categorical_accuracy: 0.9423 - val_loss: 0.0851 - val_sparse_categorical_accuracy: 0.9777\n",
            "Epoch 2/5\n",
            "\u001b[1m1000/1000\u001b[0m \u001b[32m━━━━━━━━━━━━━━━━━━━━\u001b[0m\u001b[37m\u001b[0m \u001b[1m74s\u001b[0m 74ms/step - loss: 0.0574 - sparse_categorical_accuracy: 0.9818 - val_loss: 0.1000 - val_sparse_categorical_accuracy: 0.9771\n",
            "Epoch 3/5\n",
            "\u001b[1m1000/1000\u001b[0m \u001b[32m━━━━━━━━━━━━━━━━━━━━\u001b[0m\u001b[37m\u001b[0m \u001b[1m82s\u001b[0m 82ms/step - loss: 0.0529 - sparse_categorical_accuracy: 0.9828 - val_loss: 0.1011 - val_sparse_categorical_accuracy: 0.9775\n",
            "Epoch 4/5\n",
            "\u001b[1m1000/1000\u001b[0m \u001b[32m━━━━━━━━━━━━━━━━━━━━\u001b[0m\u001b[37m\u001b[0m \u001b[1m75s\u001b[0m 75ms/step - loss: 0.0503 - sparse_categorical_accuracy: 0.9834 - val_loss: 0.1089 - val_sparse_categorical_accuracy: 0.9743\n",
            "Epoch 5/5\n",
            "\u001b[1m1000/1000\u001b[0m \u001b[32m━━━━━━━━━━━━━━━━━━━━\u001b[0m\u001b[37m\u001b[0m \u001b[1m82s\u001b[0m 82ms/step - loss: 0.0487 - sparse_categorical_accuracy: 0.9838 - val_loss: 0.1199 - val_sparse_categorical_accuracy: 0.9750\n"
          ]
        },
        {
          "output_type": "execute_result",
          "data": {
            "text/plain": [
              "<keras.src.callbacks.history.History at 0x79ee4cd19c90>"
            ]
          },
          "metadata": {},
          "execution_count": 48
        }
      ]
    },
    {
      "cell_type": "code",
      "source": [
        "test_loss3, test_accuracy3 = model3.evaluate(test_batches, steps=20, verbose=0)"
      ],
      "metadata": {
        "id": "fcr1h-iP-WGy"
      },
      "execution_count": 49,
      "outputs": []
    },
    {
      "cell_type": "code",
      "source": [
        "print(f\"test loss model 3: {test_loss3}\")\n",
        "print(f\"test accuracy model 3: {test_accuracy3}\")"
      ],
      "metadata": {
        "colab": {
          "base_uri": "https://localhost:8080/"
        },
        "id": "DQMmXx9l4Snc",
        "outputId": "06d86c79-a324-47a9-8c14-e264a43d0091"
      },
      "execution_count": 53,
      "outputs": [
        {
          "output_type": "stream",
          "name": "stdout",
          "text": [
            "test loss model 3: 0.11703171581029892\n",
            "test accuracy model 3: 0.975634753704071\n"
          ]
        }
      ]
    },
    {
      "cell_type": "markdown",
      "source": [
        "## Infefence"
      ],
      "metadata": {
        "id": "pBFXwFfn-fUA"
      }
    },
    {
      "cell_type": "code",
      "source": [
        "def inference(model, tokenizer, label_encoder, sentence, max_length=128):\n",
        "    if isinstance(sentence, str):\n",
        "        tokens = sentence.split()\n",
        "    else:\n",
        "        tokens = sentence\n",
        "\n",
        "    encoding = tokenizer(tokens, is_split_into_words=True, truncation=True,\n",
        "                        padding=\"max_length\", max_length=max_length)\n",
        "\n",
        "    input_ids = tf.constant([encoding[\"input_ids\"]], dtype=tf.int64)\n",
        "    attention_mask = tf.constant([encoding[\"attention_mask\"]], dtype=tf.int64)\n",
        "\n",
        "    inputs = {\n",
        "        \"input_ids\": input_ids,\n",
        "        \"attention_mask\": attention_mask\n",
        "    }\n",
        "\n",
        "    predictions = model(inputs)\n",
        "    predicted_labels = tf.argmax(predictions, axis=-1)\n",
        "    prediction_probs = tf.nn.softmax(predictions, axis=-1)\n",
        "\n",
        "    pred_labels = predicted_labels.numpy()[0]\n",
        "    pred_probs = prediction_probs.numpy()[0]\n",
        "\n",
        "    predicted_tags = []\n",
        "    confidences = []\n",
        "\n",
        "    for i, (token, label_id, prob_dist) in enumerate(zip(tokens, pred_labels, pred_probs)):\n",
        "        if i < len(tokens):\n",
        "            predicted_tag = label_encoder.inverse_transform([label_id])[0]\n",
        "            confidence = np.max(prob_dist)\n",
        "            predicted_tags.append(predicted_tag)\n",
        "            confidences.append(confidence)\n",
        "\n",
        "    for token, tag, conf in zip(tokens, predicted_tags, confidences):\n",
        "        print(f\"{token:<15} {tag:<15} {conf:<10.3f}\")\n",
        "\n",
        "    print(f\"token: {tokens}\")\n",
        "    print(f\"predicted_tags: {predicted_tags}\")\n",
        "    print(f\"confidences: {confidences}\")\n",
        "    print(f\"raw_prediction: {predictions.numpy()}\")\n",
        "    print(f\"prediction_probs: {pred_probs}\")"
      ],
      "metadata": {
        "id": "tBwNJUKNb5Yv"
      },
      "execution_count": 56,
      "outputs": []
    },
    {
      "cell_type": "code",
      "source": [
        "sentence = [\"IKN\", \"is\", \"the\", \"capital\", \"city\", \"in\", \"Indonesia\"]\n",
        "inference(model1, tokenizer, label_encoder, sentence)"
      ],
      "metadata": {
        "colab": {
          "base_uri": "https://localhost:8080/"
        },
        "id": "dk5RfenLcrgL",
        "outputId": "f71d4fcf-9ec1-4de0-e672-397b0a05308d"
      },
      "execution_count": 57,
      "outputs": [
        {
          "output_type": "stream",
          "name": "stdout",
          "text": [
            "inputs: [[  101 20912  2078  2003  1996  3007  2103  1999  6239   102     0     0\n",
            "      0     0     0     0     0     0     0     0     0     0     0     0\n",
            "      0     0     0     0     0     0     0     0     0     0     0     0\n",
            "      0     0     0     0     0     0     0     0     0     0     0     0\n",
            "      0     0     0     0     0     0     0     0     0     0     0     0\n",
            "      0     0     0     0     0     0     0     0     0     0     0     0\n",
            "      0     0     0     0     0     0     0     0     0     0     0     0\n",
            "      0     0     0     0     0     0     0     0     0     0     0     0\n",
            "      0     0     0     0     0     0     0     0     0     0     0     0\n",
            "      0     0     0     0     0     0     0     0     0     0     0     0\n",
            "      0     0     0     0     0     0     0     0]]\n",
            "IKN             B-art           1.000     \n",
            "is              I-per           0.496     \n",
            "the             I-per           0.331     \n",
            "capital         O               0.995     \n",
            "city            O               0.996     \n",
            "in              O               1.000     \n",
            "Indonesia       O               0.853     \n",
            "token: ['IKN', 'is', 'the', 'capital', 'city', 'in', 'Indonesia']\n",
            "predicted_tags: [np.str_('B-art'), np.str_('I-per'), np.str_('I-per'), np.str_('O'), np.str_('O'), np.str_('O'), np.str_('O')]\n",
            "confidences: [np.float32(0.99982977), np.float32(0.4963708), np.float32(0.33109173), np.float32(0.9952388), np.float32(0.99583554), np.float32(0.9995272), np.float32(0.8526553)]\n",
            "raw_prediction: [[[10.958246    0.13203797 -0.09570621 ... -1.3381354  -0.4956439\n",
            "    0.14856723]\n",
            "  [ 0.22643673 -2.944989   -1.4566942  ...  4.6638346  -1.6824338\n",
            "    4.5304337 ]\n",
            "  [-1.0606664  -1.6954863   3.2981157  ...  3.9415371  -1.1168622\n",
            "    3.254908  ]\n",
            "  ...\n",
            "  [11.226837    0.38176435 -0.5052464  ... -1.5493506  -0.49825448\n",
            "    0.44602117]\n",
            "  [11.226837    0.38176385 -0.5052463  ... -1.549351   -0.49825418\n",
            "    0.4460204 ]\n",
            "  [11.226838    0.38176483 -0.5052456  ... -1.5493513  -0.49825424\n",
            "    0.44602105]]]\n",
            "prediction_probs: [[9.9982977e-01 1.9868436e-05 1.5821790e-05 ... 4.5674651e-06\n",
            "  1.0606324e-05 2.0199570e-05]\n",
            " [5.8704144e-03 2.4622720e-04 1.0906726e-03 ... 4.9637079e-01\n",
            "  8.7027554e-04 4.3438113e-01]\n",
            " [2.2259685e-03 1.1798320e-03 1.7398587e-01 ... 3.3109173e-01\n",
            "  2.1043282e-03 1.6662845e-01]\n",
            " ...\n",
            " [9.9986434e-01 1.9497811e-05 8.0308600e-06 ... 2.8269178e-06\n",
            "  8.0872042e-06 2.0791802e-05]\n",
            " [9.9986434e-01 1.9497791e-05 8.0308600e-06 ... 2.8269178e-06\n",
            "  8.0872114e-06 2.0791784e-05]\n",
            " [9.9986434e-01 1.9497791e-05 8.0308600e-06 ... 2.8269124e-06\n",
            "  8.0872042e-06 2.0791784e-05]]\n"
          ]
        }
      ]
    },
    {
      "cell_type": "code",
      "source": [
        "sentence = [\"Joko\", \"Widodo\", \"is\", \"the\", \"former\", \"president\", \"of\", \"Indonesia\"]\n",
        "inference(model1, tokenizer, label_encoder, sentence)"
      ],
      "metadata": {
        "colab": {
          "base_uri": "https://localhost:8080/"
        },
        "id": "Xbgj15QQ3rqP",
        "outputId": "26e44b7e-e6f8-4a44-b275-747386deeaad"
      },
      "execution_count": 58,
      "outputs": [
        {
          "output_type": "stream",
          "name": "stdout",
          "text": [
            "inputs: [[  101  8183  3683 15536  3527  3527  2003  1996  2280  2343  1997  6239\n",
            "    102     0     0     0     0     0     0     0     0     0     0     0\n",
            "      0     0     0     0     0     0     0     0     0     0     0     0\n",
            "      0     0     0     0     0     0     0     0     0     0     0     0\n",
            "      0     0     0     0     0     0     0     0     0     0     0     0\n",
            "      0     0     0     0     0     0     0     0     0     0     0     0\n",
            "      0     0     0     0     0     0     0     0     0     0     0     0\n",
            "      0     0     0     0     0     0     0     0     0     0     0     0\n",
            "      0     0     0     0     0     0     0     0     0     0     0     0\n",
            "      0     0     0     0     0     0     0     0     0     0     0     0\n",
            "      0     0     0     0     0     0     0     0]]\n",
            "Joko            B-art           1.000     \n",
            "Widodo          B-geo           0.769     \n",
            "is              I-per           0.985     \n",
            "the             B-per           0.968     \n",
            "former          O               0.394     \n",
            "president       O               0.394     \n",
            "of              O               0.995     \n",
            "Indonesia       O               0.996     \n",
            "token: ['Joko', 'Widodo', 'is', 'the', 'former', 'president', 'of', 'Indonesia']\n",
            "predicted_tags: [np.str_('B-art'), np.str_('B-geo'), np.str_('I-per'), np.str_('B-per'), np.str_('O'), np.str_('O'), np.str_('O'), np.str_('O')]\n",
            "confidences: [np.float32(0.99982977), np.float32(0.76903963), np.float32(0.9854748), np.float32(0.96806526), np.float32(0.39430594), np.float32(0.39430588), np.float32(0.9952388), np.float32(0.99583554)]\n",
            "raw_prediction: [[[ 1.0958247e+01  1.3203755e-01 -9.5705733e-02 ... -1.3381350e+00\n",
            "   -4.9564373e-01  1.4856687e-01]\n",
            "  [-6.5147167e-01 -1.9166598e+00  6.3171110e+00 ...  4.9509788e+00\n",
            "   -2.8630464e+00  1.4855815e-03]\n",
            "  [-3.5402313e-01 -1.4431844e+00  1.0119050e+00 ...  6.9321494e+00\n",
            "   -1.4674743e+00  1.2640971e+00]\n",
            "  ...\n",
            "  [ 1.1226836e+01  3.8176420e-01 -5.0524700e-01 ... -1.5493504e+00\n",
            "   -4.9825460e-01  4.4602039e-01]\n",
            "  [ 1.1226836e+01  3.8176462e-01 -5.0524700e-01 ... -1.5493509e+00\n",
            "   -4.9825531e-01  4.4602111e-01]\n",
            "  [ 1.1226838e+01  3.8176498e-01 -5.0524563e-01 ... -1.5493510e+00\n",
            "   -4.9825436e-01  4.4602063e-01]]]\n",
            "prediction_probs: [[9.9982977e-01 1.9868396e-05 1.5821775e-05 ... 4.5674651e-06\n",
            "  1.0606314e-05 2.0199552e-05]\n",
            " [7.2365528e-04 2.0420561e-04 7.6903963e-01 ... 1.9617561e-01\n",
            "  7.9260513e-05 1.3902963e-03]\n",
            " [6.7499577e-04 2.2713513e-04 2.6455508e-03 ... 9.8547482e-01\n",
            "  2.2168444e-04 3.4044089e-03]\n",
            " ...\n",
            " [9.9986434e-01 1.9497829e-05 8.0308600e-06 ... 2.8269205e-06\n",
            "  8.0872114e-06 2.0791802e-05]\n",
            " [9.9986434e-01 1.9497829e-05 8.0308600e-06 ... 2.8269205e-06\n",
            "  8.0872042e-06 2.0791824e-05]\n",
            " [9.9986434e-01 1.9497811e-05 8.0308600e-06 ... 2.8269151e-06\n",
            "  8.0871960e-06 2.0791784e-05]]\n"
          ]
        }
      ]
    },
    {
      "cell_type": "code",
      "source": [],
      "metadata": {
        "id": "QISkcefT7Fzn"
      },
      "execution_count": null,
      "outputs": []
    }
  ]
}